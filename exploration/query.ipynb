{
 "cells": [
  {
   "cell_type": "code",
   "execution_count": 1,
   "metadata": {},
   "outputs": [],
   "source": [
    "from whoosh.index import open_dir\n",
    "\n",
    "ix = open_dir(\"index\")"
   ]
  },
  {
   "cell_type": "code",
   "execution_count": 2,
   "metadata": {},
   "outputs": [
    {
     "name": "stdout",
     "output_type": "stream",
     "text": [
      "{'author': 'Riot Scruffy', 'category': 'Dev Corner', 'date': datetime.datetime(2020, 1, 24, 17, 49, 27, 277000, tzinfo=tzlocal()), 'link': 'https://boards.na.leagueoflegends.com/en/c/developer-corner/Ex34iIQE-quick-gameplay-thought-january-24', 'post_content': '<p>Hey everyone. Riot Scruffy here, and I’m taking over for the Quick Gameplay Thoughts dev blog every other week. As Lead Gameplay Designer I manage the design teams that work on Champions, Game Balance, Items, the SR Map, Runes, Matchmaking, and Ranked. I plan to bring you all some updates and previews of upcoming work and go deeper into our reasoning and goals with the work that we do. Everything we add, change, and remove from LoL is done for a reason and we hope that our work makes the game better every patch. </p>\\n\\n<p><strong>Balance Strategy Refresh</strong>\\nThis won’t be news to many of you, but I thought it would be good to do a quick refresh of our balance strategy. The reality of League of Legends is that the game played at different levels of skill is like an entirely different game in terms of which champions and strategies are strong or weak. With this in mind, it’s impossible to have all 148 champions balanced at every level of play. </p>\\n\\n<p>Our approach is to slice the game into 4 different skill segments where we think balance is meaningfully different:</p>\\n\\n<ul>\\n<li>Normal (Iron - Gold)</li>\\n<li>Skilled (Plat - Master)</li>\\n<li>Elite (Grandmaster-Challenger)</li>\\n<li>Professional </li>\\n</ul>\\n\\n<p>And then ensure that every champ is:</p>\\n\\n<ul>\\n<li>Viable in at least one segment</li>\\n<li>Overpowered in no skill segments</li>\\n</ul>\\n\\n<p>The core reasoning behind this is that we think that an overpowered champion can suppress the viability and richness of the entire game meta, so we want to protect players of all skill levels from this unbalanced game state. </p>\\n\\n<p><strong>Jungle Followup</strong>\\nWith enough time to see the results on the preseason jungle changes, we’re seeing some goals were achieved and some not. </p>\\n\\n<ul>\\n<li>Small nerfs - the jungle XP and gold are nerfed, but it’s looking like it’s a bit too hard in particular on farming and later game junglers.</li>\\n<li>Pathing is more balanced - this goal was definitely achieved, not all paths are perfectly balanced with each other but we’re much closer here than we were in season 9</li>\\n<li>Less early ganks more farm - this goal was not achieved, we’re seeing roughly the same amount of early ganking as season 9</li>\\n</ul>\\n\\n<p>The plan - we’re looking to buff up jungle XP slightly and skew towards incentives to farm over gank</p>\\n\\n<ul>\\n<li>Buffing jungle XP per min for minutes 4-18 and spreading it across the less targeted camps that are often skipped by gank heavy junglers</li>\\n<li>Pushing back the minion farm penalty removal to further nerf funnel strategies (which are rare but extremely strong)</li>\\n</ul>\\n\\n<p><strong>Sett Release Retro</strong>\\nNow that Sett has been out for two weeks, I wanted to share some thoughts on how we think his gameplay turned out. Some of the long term effects of hit kit can’t really be known for sure at this point, but I still wanted to share my early thoughts.</p>\\n\\n<ul>\\n<li>Low complexity - Sett is a wonderful demonstration of how even in 2020, simple designs can be both satisfying and skillful. We want to do much more of this in the future where we focus on “quality over quantity” in our champ kits. </li>\\n<li>Unique but not game changing - Sett brings a few pretty exciting new ideas to the table like damage reflect and turning the enemy tank into a nuke. He isn’t redefining what a champion in LoL can be, but for his goals as an accessible top lane juggernaut, I think he’s on target. </li>\\n<li>Balance - Sett’s winrate has climbed over his first two weeks of play and he’s appearing to be a be viable as a top and jungle currently. It’s possible that he may need some slight nerfs in the future, but he doesn’t seem to be significantly OP today. </li>\\n<li>Clear weaknesses - Another success worth calling out is that Sett is powerful, but he provides enemies a clear opportunity for counterplay. </li>\\n</ul>\\n\\n<p><strong>Upcoming balance changes for 10.3:</strong>\\n<strong>Akali</strong> - Many of you already saw the Akali changes on PBE. Akali is dominating both pro and elite level play, but she’s not nearly as OP for skilled and normal. With that in mind we’re trying to reduce the amount of control she has over choosing when to fight, which is a core reason why she is such a strong pick at the top tier of play. The upside here is that if these mechanics changes make her a more counterable champion at the top levels of play, we can give her some more conventional buffs to allow her to be viable in regular play. After testing the initial changes, we’re making a few changes:\\nMoving away from “CC reveals her during W stealth” as it was making the experience unreliable in a confusing way and adding inconsistency to our stealth rules\\nCutting R2 speed decrease - this wasn’t getting us a lot of movement for how bad it felt\\nKeeping R1 as targeted as it’s effectively lowering both her escape tools and her super long range pick potential \\nExploring a few other alternatives like early ranks of Q energy cost being higher to reduce her lane trade and push power</p>\\n\\n<p><strong>Yuumi buffs</strong> - The Yuumi changes in patch 9.24 have left her with significant new weaknesses that allow us to give her a decent buff. The tactic we’re exploring right now is to buff Q rankups so that Q max is a viable build (letting her have an active playstyle instead of only E max build) </p>\\n\\n<p><strong>Aphelios</strong> - We’re adding a max range on caibrum marks. We intend to keep it as a very long range poke effect, but bring it in line with other similar mechanics like Caitlyn or Xerath. Frankly, cross map sniping is not interactive or interesting gameplay, so we’re removing it. </p>\\n\\n<p><strong>Senna</strong> - we want to shift a bit of power out of Markswoman position Senna to Support Senna. This probably means we’ll be tuning soul drops for when you get the minion kill vs when your ally does. </p>\\n\\n<p>These are just a few of the changes in for 10.3 - expect more info next week about the full patch. </p>\\n\\n<p>Thanks again everyone for playing. I’m excited to be making more posts like this about our design process and thinking. Feel free to drop questions or future topic requests in the comments.</p>\\n\\n<p>Scruffy\\nhttps://twitter.com/MarkYetter\\nhttps://ddragon.leagueoflegends.com/cdn/9.24.2/img/champion/Sion.png</p>\\n', 'title': 'Quick Gameplay Thought: January 24'} 63715484967277000\n",
      "{'author': 'A Red Herring', 'category': 'Off-topic', 'date': datetime.datetime(2019, 11, 23, 17, 40, 59, 904000, tzinfo=tzlocal()), 'link': 'https://boards.euw.leagueoflegends.com/en/c/off-topic-en/33ev6kNz-are-burst-mages-good-against-carries-or-juggernauts?comment=0000', 'parent_content': \"<p>I am a little confused about Juggernauts. Regarding Tanks, I ignore them (unless I'd play Marksman), but I can't ignore Juggernauts because of their huge amounts of damage.</p>\\n\\n<p>So, I am thinking, most melee champions, like AD Assassins or stuff like {{champion:92}} cannot deal with them.</p>\\n\\n<p>Who do I expect to deal in a fight against them? My guess is Marksmen and... Mages? I feel like Annie or Lux don't do that much.</p>\\n\\n<p>Which classes deal with Juggernauts? Thank you! {{champion:17}} {{sticker:darius-angry}}</p>\\n\\n<p>ˉÐęqûńˉ</p>\\n\", 'post_content': \"<p>Juggernauts have lots of damage and low mobility.  Their whole schtick is that they have issues reaching you but if they do get in range of you they can dictate the terms of the fight and blow you up. You deal with them by keeping them out of range of their intended target.</p>\\n\\n<p>Any kind of champion that has the ability to either:</p>\\n\\n<ol>\\n<li>kite</li>\\n<li>dash or blink</li>\\n<li>cc</li>\\n<li>create walls (there is only one juggernaut with a leap that traverses walls, which is Shyvana).</li>\\n</ol>\\n\\n<p>Are good counters to them. In general, control mages do well vs juggernauts. If I see a juggernaut heavy team I'll usually pick Anivia because her wall, ultimate and Q are all really annoying for champions like Darius, Urgot etc to  deal with</p>\\n\", 'title': 'Are burst mages good against carries or juggernauts?'} 63710127659904000\n",
      "{'author': 'Meddler', 'category': 'Dev Corner', 'date': datetime.datetime(2019, 11, 22, 18, 5, 39, 379000, tzinfo=tzlocal()), 'link': 'https://boards.na.leagueoflegends.com/en/c/developer-corner/tbXutytq-quick-gameplay-thoughts-november-22?comment=00030000', 'parent_content': \"<p>Thoughts on conqueror? Feels like it's over-tuned at the moment especially on certain champs that abuse it</p>\\n\\n<p>Evilbird</p>\\n\", 'post_content': \"<p>Looking at early data it looks like it could be on the strong side for some champs at least. Statistically its most powerful users seem to be juggernauts primarily so far with Garen, Yorick, Skarner, Voli, Morde five of the top six users if you look at raw win rate (Aurelion Sol's the other, though that could be small sample size being misleading). Yorick and Voli do have comparable win rates with other keystones for what it's worth though.</p>\\n\", 'title': 'Quick Gameplay Thoughts: November 22'} 63710042739379000\n",
      "{'author': 'Meddler', 'category': 'Dev Corner', 'date': datetime.datetime(2019, 10, 11, 15, 58, 21, 481000, tzinfo=tzlocal()), 'link': 'https://boards.na.leagueoflegends.com/en/c/developer-corner/OzpQtsiV-quick-gameplay-thoughts-october-11', 'post_content': \"<h2>Hi folks,</h2>\\n\\n<p><strong>Usual Disclaimers</strong></p>\\n\\n<h2>These posts will often contain talk about future work we're doing, or planning to do, that isn't yet guaranteed to ship. The nature of the work could change or, depending on what we discover, projects mentioned may get delayed or even stopped. If you'd like to see a Tweet whenever a new one of these posts goes up: https://twitter.com/RiotMeddler</h2>\\n\\n<p><strong>Garen and Shaco changes so far</strong></p>\\n\\n<p>Shaco:</p>\\n\\n<ul>\\n<li>Directionally changes seem promising, with the E and R changes especially working as hoped in terms of the gameplay they create.</li>\\n<li>Looks like he's too strong, though probably at nerfs next patch levels not hotfix levels of too strong. First thing we'll test is weaker level one boxes, aimed particularly at hitting how quickly he's clearing his initial camps and hitting level 3.</li>\\n<li>Power wise our minimum goal is to ensure he's not weaker than before the changes, even if we have to pull back on some of the just added power.</li>\\n</ul>\\n\\n<p>Garen:</p>\\n\\n<ul>\\n<li>Is also looking too strong and a candidate for nerfs next patch. As expected with Garen he’s less out of line in high MMR, though still on the strong side even there.</li>\\n<li>Not sure yet how good attack speed as a build path is for him post E changes. Our goal was that it should be an option, rather than mandatory or always a mistake.</li>\\n<li>Another goal was to shift power to his early game, the belief being that that's both part of Garen's historic identity we wanted to bring back and generally an appropriate pattern for juggernauts. Does look like that's working so far.</li>\\n<li>In terms of overall power as with Shaco we'd like to ensure that he doesn't end up weaker than before the changes at a minimum.</li>\\n</ul>\\n\\n<p>---------------------------------------------------------------------------- <br />\\n<strong>SR/TT Victorious skin if you don't own the champion?</strong></p>\\n\\n<p>Since this is a topic that comes up every year -  if you hit Gold+ in SR and/or TT and qualify for the Victorious for the year, you will get the skin even if you don't own the champion it's for. You'll then also get the base champion unlocked as an extra bonus. </p>\\n\\n<h2>In terms of who that skin's for we'll announce that a bit later this month.</h2>\\n\\n<p><strong>Why doesn't the ranked season start in December?</strong></p>\\n\\n<p>This is another question we see pop up fairly often. A lot of people have time on holiday in December but, because we start the ranked season early in the new year, they can't start their ranked climb or play in as competitive a queue. We did try starting a ranked season in December a few years back to see if that was a better overall experience. Our conclusion was that it wasn't worth the trade offs though unfortunately. The gap between preseason going out and ranked turning on being so short means there's not enough time for followup on the preseason changes, leading to a significantly less stable game state for the early parts of the season. That's particularly problematic since there's also a patch at the end of the year that's live for longer than normal (around 4 weeks usually instead of the usual 2), so any issues take longer to get addressed as well. </p>\\n\\n<p>http://ddragon.leagueoflegends.com/cdn/6.24.1/img/champion/Ziggs.png</p>\\n\", 'title': 'Quick Gameplay Thoughts: October 11'} 63706406301481000\n",
      "{'author': 'Meddler', 'category': 'Dev Corner', 'date': datetime.datetime(2019, 3, 6, 17, 10, 41, 159000, tzinfo=tzlocal()), 'link': 'https://boards.na.leagueoflegends.com/en/c/developer-corner/BiJm4R5E-quick-gameplay-thoughts-march-6', 'post_content': \"<h2>Hi folks,</h2>\\n\\n<p><strong>Usual Disclaimers</strong></p>\\n\\n<h2>These posts will often contain talk about future work we're doing, or planning to do, that isn't yet guaranteed to ship. The nature of the work could change or, depending on what we discover, projects mentioned may get delayed or even stopped. If you'd like to see a Tweet whenever a new one of these posts goes up: https://twitter.com/RiotMeddler</h2>\\n\\n<p><strong>Clash Tests</strong></p>\\n\\n<p>It's been a bit since we talked about Clash, work continues though to get ready for a full release. The next major step are some upcoming tests this coming weekend in BR and LATAM. Those are focused on testing two things primarily:</p>\\n\\n<ol>\\n<li><p>Tier based phasing. Matches for different skill tiers start at different times of the day to spread out how many players hit the servers all at once basically.</p></li>\\n<li><p>Caps. There's a limit to how many teams can compete each day. The limit's very large, so shouldn't be hit in most servers. We do believe it's better to stop taking new teams into a Clash tournament if a server gets really full than to let a few more players in at the expense of degrading game performance for everyone already there.  </p></li>\\n</ol>\\n\\n<p>---------------------------------------------------------------------------- <br />\\n<strong>Ranked Update</strong></p>\\n\\n<p>As you might have seen already we put out an update on how Ranked's going last week, talking about both what seems to be working well and what isn't:</p>\\n\\n<p>https://boards.na.leagueoflegends.com/en/c/developer-corner/voxV8l2u-ranked-2019-dev-update-3</p>\\n\\n<h2>This Friday we should have follow up on the things that aren't working well enough, including details on what we'll be changing as a result.</h2>\\n\\n<p><strong>Urgot</strong></p>\\n\\n<p>We've got some meaningful changes to Urgot on the PBE at the moment. Some are just straight power (he's on the weak side now as expected since we hit him with some meaningful nerfs). Wanted to talk through some of the changes that might benefit from more context though:</p>\\n\\n<ul>\\n<li>We testing moving his shield from his W to his E. Goal there is to make so that if Urgot wants to trade using his shield he has to put both of his defensive tools (dash as well) on CD. That increased risk to his trading then means we can probably give him power in other regards.</li>\\n<li>We're increasing his ult range noticeably. In retrospect we were potentially overly cautious on the range restriction originally, especially given it's easy to block or miss. </li>\\n<li>We're making AD builds less sub optimal, with the aim of opening up his itemization a bit more. Goal is still to have him as a juggernaut who tends to want to build fairly tanky. Would like to narrow the gap in effectiveness between AD and tankier builds though.</li>\\n</ul>\\n\\n<p>---------------------------------------------------------------------------- <br />\\n<strong>We're looking for a few associate designers</strong></p>\\n\\n<p>More details in this Twitter thread in case it's of interest and you haven't already seen it:</p>\\n\\n<p>https://twitter.com/RiotMeddler/status/1102988737175216128</p>\\n\\n<p>TLDR - we've got a few open spots right now for associate game designers. These are roles aimed at people with moderate or no games industry experience. Things like having worked on big mods, making your own game projects, CS degrees and professional experience in other analytical fields (sciences, engineering, law etc) are meaningful pluses if you're thinking about applying!</p>\\n\\n<p>http://ddragon.leagueoflegends.com/cdn/6.24.1/img/champion/Ziggs.png</p>\\n\", 'title': 'Quick Gameplay Thoughts: March 6'} 63687489041159000\n",
      "{'author': 'Bioluminescence', 'category': 'Story, Art, & Sound', 'date': datetime.datetime(2018, 12, 9, 22, 32, 33, 197000, tzinfo=tzlocal()), 'link': 'https://boards.na.leagueoflegends.com/en/c/story-art/EWlqEFon-2018-lore-tournament-9th-december-leaving-wehle-vs-art-is-life?comment=00000000', 'parent_content': \"<p>Weh'le is being pitted against an absolute juggernaut of atmosphere, imagery and storytelling. Not fair at all.</p>\\n\\n<p>By the way, did you notice that Vlad's backstory sort of references that of Vlad the Impaler (the entire political hostage thing) and right after hearing his story we encounter thousands upon thousands of butterflies pinned on needles... Which may again be a Vlad Tepes reference?</p>\\n\\n<p>https://www.factinate.com/wp-content/uploads/2017/12/8.gif</p>\\n\\n<p>That's just one way the story is being clever and fucking awesome.</p>\\n\\n<p>Blood Magicks</p>\\n\", 'post_content': '<blockquote>\\n  <p><a href=\"name=Blood Magicks,realm=EUW,application-id=6kFXY1kR,discussion-id=EWlqEFon,comment-id=0000,timestamp=2018-12-09T22:25:27.847+0000\">{quoted}</a></p>\\n  \\n  <p>Weh&#x27;le is being pitted against an absolute juggernaut of atmosphere, imagery and storytelling. Not fair at all.</p>\\n  \\n  <p>By the way, did you notice that Vlad&#x27;s backstory sort of references that of Vlad the Impaler (the entire political hostage thing) and right after hearing his story we encounter thousands upon thousands of butterflies pinned on needles... Which may again be a Vlad Tepes reference?</p>\\n  \\n  <p>https://www.factinate.com/wp-content/uploads/2017/12/8.gif</p>\\n  \\n  <p>That&#x27;s just one way the story is being clever and fucking awesome.</p>\\n</blockquote>\\n\\n<p>I picked a few stories that were either longer than usual and/or I felt had been pretty popular at the time of their release, as the seeds for the 2nd round, but otherwise randomized the matchups of the other stories.  I fear there\\'s always going to be a few stomps when that happens - but I couldn\\'t figure out a more fair way to line up the matches!</p>\\n\\n<p>I definitely have a fave out of these two, even if I feel that, as a Rioter, I\\'m supposed to be a bit more impartial.  As long as I don\\'t get angry writers writing me angry messages about it, I should be fine!</p>\\n', 'title': \"2018 Lore Tournament - 9th December: Leaving Weh'Le vs. Art is Life\"} 63679991553197000\n",
      "{'author': 'Meddler', 'category': 'Dev Corner', 'date': datetime.datetime(2018, 10, 5, 16, 14, 59, 940000, tzinfo=tzlocal()), 'link': 'https://boards.na.leagueoflegends.com/en/c/developer-corner/zpaM5Ki1-quick-gameplay-thoughts-october-5', 'post_content': '<h2>Hi folks,</h2>\\n\\n<p><strong>Usual Disclaimers</strong></p>\\n\\n<h2>These posts will often contain talk about future work we&#039;re doing, or planning to do, that isn&#039;t yet guaranteed to ship. The nature of the work could change or, depending on what we discover, projects mentioned may get delayed or even stopped. If you&#039;d like to see a Tweet whenever a new one of these posts goes up: https://twitter.com/RiotMeddler</h2>\\n\\n<p><strong>Some things we&#039;ll be looking at in 8.21</strong></p>\\n\\n<p>Not a comprehensive list, but a few champs we already know we&#039;ll be looking at in 8.21:</p>\\n\\n<ul>\\n<li>Kai&#039;Sa nerf - One direction is giving her clearer weaknesses. Another is making her upgrades a bit harder to unlock, given the original intent wasn&#039;t that she&#039;d unlock all 3 this reliably.  </li>\\n<li>Tank Pyke nerf - While keeping AD Pyke around its current power level. Potentially involves some degree of kit effect changes (e.g. modifying the HP -&gt; AD effect on his passive plus additional scaling changes?)</li>\\n<li>Corki buff - Didn&#039;t make it into 8.20, aiming to have it in 8.21 as a result.</li>\\n</ul>\\n\\n<p>---------------------------------------------------------------------------- <br />\\n<strong>OMW Ping improvements in 8.21</strong></p>\\n\\n<p>We should also have some improvements to the OMW pings in 8.21. The big change is that the sound of the pings themselves will now communicate a couple of extra pieces of info:</p>\\n\\n<ol>\\n<li>Processing applied to the sound will represent distance between the user of the ping and the pinged location. The further that distance, the more echo there&#039;ll be. Basically it&#039;s a representation of how long it&#039;ll take the pinging player to get there.</li>\\n<li>The further the ping is from the listening player the quieter the ping will be played. If someone&#039;s pinging that they&#039;re on the way to your lane, you&#039;ll hear a loud ping. If they&#039;re pinging they&#039;re on their way to the other side of the map, it&#039;ll be comparatively quiet. </li>\\n</ol>\\n\\n<p>We&#039;ll also be putting a chat notification of the OMW ping being used back in team chat. Looks like that got accidentally broken at some point when this approach was being developed. </p>\\n\\n<p>---------------------------------------------------------------------------- <br />\\n<strong>Why we don&#039;t use adaptive effects in game</strong></p>\\n\\n<p>Since we added both adaptive damage and adaptive stats to the pre-game with Runes the question&#039;s naturally been raised as to why we&#039;re not using them in game as well. Things like why not have items just grant Adaptive AP/AD so more champs can use them, or having damage on champ abilities or from items change types to be more optimal all the time. Some thoughts on why we haven&#039;t been doing that below.</p>\\n\\n<ul>\\n<li>Adaptive Damage</li>\\n</ul>\\n\\n<p>By which we mean damage that can change its type. Easy example being Arcane Comet, which deals magic damage when you&#039;re building AP and physical damage when you&#039;re building AD. With Runes we were almost always aiming to design effects that could be  added on to any damage pattern. Offering the damage type that would make sense with the sort of pen you were likely to build was more appropriate as a result. That also means it&#039;s easier to pick defensive options against a specific champion, since their pregame damage contributions will generally be matching their kit damage type.</p>\\n\\n<p>For in game effects by contrast our concern is that adaptive damage makes it much harder to predict what sort of damage you&#039;ll be facing and therefore purchase/play against it. LoL&#039;s got a lot of champ abilities and other damage sources already to understand/track, so making it so you also need to assess someone&#039;s build all the time to understand whether an ability has flipped damage type is something we generally want to avoid. Possible we might make the occasional exception, especially if it&#039;s a strong fit with a champion&#039;s theme and really well communicated through art/audio etc, but even then would expect it to be a rare thing if done at all.</p>\\n\\n<ul>\\n<li>Adaptive Stats on items etc (or abilities that scale with either stat)</li>\\n</ul>\\n\\n<p>As in stats that just give you whichever you scale best with of AP/AD/whatever. Again with Runes we wanted things to be really open, particularly to avoid having to make additional runes that were basically just duplicates with different scaling. With items by contrast there are quite a lot of cases where limiting the pool of users can be really important, particularly from a game health perspective. Which stats an item offers is a really good way to skew its value towards different users it&#039;s intended to serve well (e.g. pushing Zhonya&#039;s towards primarily mages and other heavy AP users, or skewing Black Cleaver towards health so we can keep it in a good spot for juggernauts and other tankier fighters). Additionally items changing which stats they offer also contributes to difficulty understanding and reacting to enemy damage output, especially if it flips back and forth during the game. We&#039;ve been very hesitant about adaptive stats in game as a result, given the degree to which that would privilege offense over defense, unless making defensive stats adaptive as well. There are some cases where it might be a useful tool (e.g. opening up the Spellthief&#039;s line to AD users). Possible we do use it a bit in circumstances like that at some point, also might just solve the issue in other ways though (offering other power rather than AD or AP specifically). </p>\\n\\n<p>http://ddragon.leagueoflegends.com/cdn/6.24.1/img/champion/Ziggs.png</p>\\n', 'title': 'Quick Gameplay Thoughts: October 5'} 63674352899940000\n",
      "{'author': 'AD Yuumi', 'category': 'Dev Corner', 'date': datetime.datetime(2018, 8, 28, 21, 26, 57, 798000, tzinfo=tzlocal()), 'link': 'https://boards.na.leagueoflegends.com/en/c/developer-corner/uORAKHlQ-nexus-blitz-week-3-feedback-and-patch-notes', 'post_content': '<p><a href=\"https://boards.na.leagueoflegends.com/en/c/developer-corner/tho64FfY-nexus-blitz-alpha-week-2-feedback-and-patch-notes\">Week 2 feedback thread</a>  </p>\\n\\n<p>This post marks the halfway point of the alpha, and patch 8.17 is shipping with a bunch of feature updates. You can <a href=\"https://na.leagueoflegends.com/en/news/game-updates/features/nexus-blitz-patch-notes\">read the full list here</a>, but for convenience, here&#039;s a quick summary:  </p>\\n\\n<ul>\\n<li>Two new events: Paranoia Royale and Loot Veigar</li>\\n<li>A new reward: Blessing of Caitlyn</li>\\n<li>A new item: Sword of the Divine</li>\\n<li>Changes to the Snowball Fight event</li>\\n<li>Tunings for the Push the Cart, King of the Hill, Bardle Royale, and Juggernaut events</li>\\n<li>Added a scuttle crab nest to bot lane</li>\\n<li>Various balance changes</li>\\n</ul>\\n\\n<p>We&#039;ll be watching for any balance update needs as the patch goes out.  </p>\\n\\n<p>Keep giving us that feedback!</p>\\n\\n<blockquote>\\n  <p>8/30 micropatch</p>\\n  \\n  <p>Buffs\\n  Lulu\\n  HP/lvl:: 74 &gt;&gt;&gt; 90\\n  AD:: 46 &gt;&gt;&gt; 51\\n  Armor:: 28 &gt;&gt;&gt; 32</p>\\n  \\n  <p>Tahm Kench\\n  HP/lvl:: 95 &gt;&gt;&gt; 110\\n  AS/lvl:: 2.5 &gt;&gt;&gt; 3.5\\n  Armor:: 47 &gt;&gt;&gt; 52</p>\\n  \\n  <p>Zed\\n  HP:: 584 &gt;&gt;&gt; 630\\n  AD/lvl:: 3.4 &gt;&gt;&gt; 4\\n  AS/lvl:: 2.1 &gt;&gt;&gt; 3</p>\\n  \\n  <p>Nerfs\\n  Graves\\n  HP/lvl:: 92 &gt;&gt;&gt; 85\\n  Armor:: 33 + 3.4/lvl &gt;&gt;&gt; 30 + 3/lvl</p>\\n  \\n  <p>Brand\\n  HP/lvl:: 80 &gt;&gt;&gt; 75\\n  Armor:: 22 + 3.5/lvl &gt;&gt;&gt; 18 + 3/lvl</p>\\n  \\n  <p>Ziggs\\n  HP/lvl:: 92 &gt;&gt;&gt; 78\\n  Armor/lvl:: 3.3 &gt;&gt;&gt; 3</p>\\n  \\n  <p>Vel\\'koz\\n  HP/lvl:: 88 &gt;&gt;&gt; 75\\n  Armor/lvl:: 3.5 &gt;&gt;&gt; 3</p>\\n  \\n  <p>Lux\\n  HP/lvl:: 85 &gt;&gt;&gt; 75\\n  Armor/lvl:: 4 &gt;&gt;&gt; 3</p>\\n  \\n  <p>Nasus\\n  Q Stacks per Kill:: 3 &gt;&gt;&gt; 2</p>\\n  \\n  <p>Wukong\\n  AD/lvl:: 4 &gt;&gt;&gt; 3\\n  Armor/lvl:: 3.5 &gt;&gt;&gt; 3</p>\\n  \\n  <p>Yasuo\\n  Armor/lvl:: 3.4 &gt;&gt;&gt; 3\\n  AD/lvl:: 3.2 &gt;&gt;&gt; 2.5</p>\\n</blockquote>\\n', 'title': 'Nexus Blitz - Week 3 Feedback and Patch Notes'} 63671088417798000\n",
      "{'author': 'Rito jinxylord', 'category': 'Feature Feedback', 'date': datetime.datetime(2018, 8, 3, 4, 15, 55, 400000, tzinfo=tzlocal()), 'link': 'https://boards.pbe.leagueoflegends.com/en/c/client-new-features-feedback/2GZaFmfx-nexus-blitz-pbe-patch-notes-and-feedback?comment=009b', 'parent_content': '<p><strong>7/31 EVENT SPAWN RATES ARE CURRENTLY BUGGED!!! WE ARE WORKING TO FIND A FIX.</strong></p>\\n\\n<hr />\\n\\n<p><em>*/!\\\\ GET HYPED SUMMONERS /!*</em></p>\\n\\n<p>This will be the central PBE feedback thread for Nexus Blitz, our new experimental game mode, before it goes to live for a multi-patch alpha test (...yes, we&#039;re in a beta of an alpha). If you haven&#039;t read it yet, go to the<a href=\"https://boards.na.leagueoflegends.com/en/c/developer-corner/yKk22n3O-experimental-modes-nexus-blitz\"> [[dev corner thread here]]</a> for the high-level context on experimental modes and Nexus Blitz! This thread&#039;s for us to talk details.</p>\\n\\n<p><strong>REMINDER:</strong> Nexus Blitz is basically in &quot;early access&quot; right now, so it&#039;s kinda rough and unpolished. We&#039;ll be AGGRESSIVELY PATCHING everything from champ balance to the map itself it order to make the experience better over time, both here on PBE and when we begin the alpha on live. </p>\\n\\n<p><strong>What&rsquo;s different?</strong></p>\\n\\n<ul>\\n<li><p><strong>A New Map</strong> - Nexus Blitz is played on a small map that encourages murdering each other. A single lane splits into 2 in the middle, and the top of the map is a jungle with camps and buffs to fight over.</p></li>\\n<li><p><strong>Duo Jungle</strong> - Each team will be required to have two junglers who will work together to secure camps and objectives. Jungle XP and Gold is tuned so that it is advantageous to split it between two people. No need to funnel (we hope).</p></li>\\n<li><p><strong>Short Game Time</strong> - Games of Nexus Blitz average 13-15 minutes, and are guaranteed to end by 20. How can we guarantee that? You&#039;ll see.</p></li>\\n<li><p><strong>Events &amp; Rewards</strong> - Events are map-wide murder-encouraging objectives that bestow glorious rewards on the victors. Do you like payloads and pushing? We got that. Have a thing for circles? Same. LOOT TEEMO!?!?!?!? Kill it with fire. Just don&rsquo;t INT yourself with the Cannonpult. We&rsquo;re just getting started on these things and hope to add more events and rewards as the mode is developed. </p></li>\\n<li><strong>On-Fire</strong> - Nexus Blitz rewards bloodthirsty players who\\nmanage to get kills and stay alive by lighting them On-Fire, granting tons of adaptive stats, CDR, and mana regen. Watch out though, you&rsquo;ll be easier to kill while On-Fire and grant a large bounty to those who manage to shut you down. It&rsquo;s lit fam.</li>\\n</ul>\\n\\n<p>Hit the PBE and try things out! We&rsquo;d love to hear your feedback. Tell us about the things you find enjoyable (or awful). What are things that would make you stop playing (or want to play more)? We&rsquo;ve got a long way to go and are ready to make changes. Thanks!</p>\\n\\n<h2>Below are more detailed descriptions of the map specific mechanics as well as any patches we release over the course of the PBE</h2>\\n\\n<h2>Updates will go here over the course of our PBE stay!</h2>\\n\\n<blockquote>\\n  <p><strong>STARTING ITEMS</strong></p>\\n  \\n  <ul>\\n  <li><p>Only 1 starter item can be purchased. Doran&rsquo;s, jungle, and support items all count as starter items.</p></li>\\n  <li><p>The sustain aspects of the Doran&rsquo;s items have been significantly buffed (Lifesteal, mana regen, health regen)</p></li>\\n  <li><p>Added a new Doran&rsquo;s item for Enchanters who want to last hit (Doran&rsquo;s Lost Idol).</p></li>\\n  </ul>\\n  \\n  <p>-----Support items have been changed-----\\n  *  Supports can buy Heart of Targon (Relic Shield) or Philosopher&#039;s Medallion (Ancient Coin). Spellthief&rsquo;s line has been removed.</p>\\n  \\n  <ul>\\n  <li><p>These items are stronger than their SR counterparts but do not upgrade into anything.</p></li>\\n  <li><p>Support item quests are gone, as is sightstone.</p></li>\\n  <li>Control wards have been removed</li>\\n  </ul>\\n  \\n  <p><strong>JUNGLE</strong>\\n  *  There&rsquo;s a turret in the enemy jungle. It&rsquo;s invincible. Don&rsquo;t try to kill it. You&rsquo;ll die. Your friends will laugh at you.\\n  *  Jungle camps taken with more than one champion grant 150% XP and Gold split between the champions taking it (compared to 100% XP and Gold if taken alone)\\n  -------Jungle items have been simplified---------\\n  *  All builds start with &ldquo;Pridestalker&rsquo;s Blade,&quot; a combination of Hunter&rsquo;s Machete and Talisman, which then can be upgraded with an enchant.\\n  *  Upgrading to the Enchant grants Chilling Smite along with the normal bonuses.\\n  *  &quot;Monster Hunter&quot; XP and Gold mechanics have been removed.\\n  *  Red and Blue buff are now located centrally and are much stronger. Taking a buff camp gives a supercharged version of the buff to the 2 nearest champions on the team who last hit it.\\n  *  Rift Herald is stronger, granting Baron Buff AND Rift Herald for 2 minutes to the team who takes it.\\n  *  Baron Buff only buffs minions, it does not give AP and AD.</p>\\n  \\n  <p><strong>ON-FIRE</strong>\\n  *  Getting X kills or assists without dying lights you On-Fire.\\n  -----On-Fire stats-------\\n  *  20% Attack Speed\\n  *  20-200 Adaptive force (based on level)\\n  *  TONS of CDR (Does not count towards the CDR cap)\\n  *  20 mana/energy per second\\n  *  25% increased damage taken\\n  *  On-Fire has no maximum duration, but is lost when killed and grants 800+ gold to your killer and 200+ gold to the each other champion on the killer&rsquo;s team</p>\\n  \\n  <p><strong>EVENTS &amp; REWARDS</strong>\\n  *  A random event happens every few minutes (average 2-3 per game)\\n  *  Winning an event grants the victors a random reward\\n  *  Many events have additional bonuses on top of the reward granted to the winner (like gold for doing a thing)\\n  *  The final event happens at 18 minutes. It is not random. Its reward is arguably the best in the game.</p>\\n  \\n  <p><strong>GOLD SHARING</strong>\\n  *  All minion deaths (regardless of last hit) and monster kills share ~30% of the total gold value to every champion on the team. (Not XP, though.)  As an example. If a cannon minion is worth 100g, everyone on your team gets 30g when it dies.\\n  *  Last hitters (or nearby allies in the case of jungle camps) still get the full gold (and XP) value.  So if you kill a 100g cannon minion you will get 100g and the rest of your team will get 30g\\n  *  Gold from champion kills and assists is NOT globally shared</p>\\n  \\n  <p><strong>NEW (old) ITEMS</strong>\\n  A number of fan favorite items are returning for a second grasp at life in Nexus Blitz\\n  *  Wriggle&rsquo;s Lantern\\n  *  Ghost Walkers\\n  *  Spectral Cutlass\\n  *  Bloodletter&#039;s Veil\\n  *  Deathfire Grasp\\n  *  Spear of Shojin\\n  *  Atma&rsquo;s Reckoning\\n  *  Force of Nature\\n  *  (Heart of Gold and Philosopher&#039;s Stone have spiritually returned&mdash;see Starting items above.)</p>\\n  \\n  <p><strong>GLOBAL MAP AURA</strong>\\n  * +30% Summoner Spell CDR\\n  * +30% bonus Mana Regen at level 1</p>\\n  \\n  <p><strong>SURRENDER</strong>\\n  * Games can be surrendered with a 4 -1 vote after the 8 minute mark.</p>\\n</blockquote>\\n\\n<hr />\\n\\n<blockquote>\\n  <p><strong>RUNES REFORGED</strong>\\n  Most time based runes (Like Magical Footwear and Gathering Storm) have been rebalanced for the mode. (Jul 31: CLIENT TOOLTIPS ARE BUGGED TO SHOW SR VALUES.) </p>\\n  \\n  <p>----<strong>Domination</strong>----\\n  Taste of Blood\\n  * Cooldown :: 20 seconds &gt;&gt;&gt; 10 seconds</p>\\n  \\n  <p>----<strong>Inspiration</strong>----\\n  Kleptomancy\\n  * Switchover to late game drops :: 15 minutes &gt;&gt;&gt; 6 minutes\\n  * Early game loot curve steepness :: First 8 drops &gt;&gt;&gt; First 4 drops</p>\\n  \\n  <p>Magical Footwear\\n  * Time available :: 10 minutes &gt;&gt;&gt; 6 minutes</p>\\n  \\n  <p>Perfect Timing\\n  * Time available :: 8 minutes &gt;&gt;&gt; 4 minutes</p>\\n  \\n  <p>Minion Dematerializer\\n  * Time available :: 4 minutes &gt;&gt;&gt; 3 minutes</p>\\n  \\n  <p>Biscuit Delivery\\n  * Time between biscuits :: 3 minutes &gt;&gt;&gt; 1.5 minutes</p>\\n  \\n  <p>----<strong>Resolve</strong>----\\n  Grasp of the Undying\\n  * Health per proc (melee) :: 5 &gt;&gt;&gt; 10\\n  * Health per proc (ranged) :: 3 &gt;&gt;&gt; 6 </p>\\n  \\n  <p>Conditioning\\n  * Time Available :: 10 minutes &gt;&gt;&gt; 6 minutes</p>\\n  \\n  <p>Overgrowth\\n  * % health per stack :: 0.2 &gt;&gt;&gt; 0.3</p>\\n  \\n  <p>----<strong>Sorcery</strong>----\\n  Scorch\\n  * Cooldown :: 20 &gt;&gt;&gt; 15</p>\\n  \\n  <p>Gathering Storm\\n  * Rank-up time :: Every 10 minutes &gt;&gt;&gt; Every 4 minutes</p>\\n  \\n  <p>Transcendence\\n  * Level Available :: 10 &gt;&gt;&gt; 6</p>\\n</blockquote>\\n\\n<hr />\\n\\n<p>We&#039;re really excited to get Nexus Blitz in front of you, and can&#039;t wait for you to try it out. As PBE testers, you can help us take the mode from promising to great and give it the best chance of succeeding when the live alpha begins. Even at this phase of testing, we truly hope Nexus Blitz is a great experience. Thanks in advance for all the feedback!</p>\\n\\n<p>Rito jinxylord</p>\\n', 'post_content': \"<p>Patch notes for 8/3 PBE deploy:</p>\\n\\n<p>Today we have a ton of event bug fixes and tunings, the most notable being <strong>we're changing the placement of battle royale and King of the Hill circles to avoid spawning centered on an enemy tower :3</strong></p>\\n\\n<p>Nerfing DFG and FoN's gold efficiency to be more in line with their modern competitors.</p>\\n\\n<p>Trying some tower changes that make games less snowbally: <br />\\nA. We are greatly reducing the local and global gold that towers give.  Overall, we feel that the map control afforded by simply downing a tower in NB is powerful enough without also giving the team that takes it 3 kills worth of gold.\\nB. We're buffing tower scaling AD.  Should make tower dives more dangerous as the game progresses.</p>\\n\\n<p>In future patches we'll be looking into some more champ specific balance passes, trying to add another item or two, and maybe even get in another event or reward before 8.16.  Also bug fixes, lots of bug fixes.</p>\\n\\n<p>Keep the feedback coming friends!  Thank you.</p>\\n\\n<blockquote>\\n  <p><strong>Performance</strong>\\n  Fixed some major hitches and lag that have been plaguing the PBE environment for the last 2 days (these were not Nexus Blitz specific)</p>\\n  \\n  <p><strong>Jungle</strong>\\n  -Red and Blue distribution::  2 closest champions (regardless of who on the team last hit) &gt;&gt;&gt; Last hitter and the closest champion who is not the last hitter</p>\\n  \\n  <p>Rift Herald\\n  -Spawn Time:: 8 min &gt;&gt;&gt; 10 min\\n  -Respawn Time:: 5 min &gt;&gt;&gt; 4 min</p>\\n  \\n  <p>-Fixed a bug where runic echoes wasn't restoring mana\\n  -Fixed a bug where Cinderhulk TT wasn't showing correct bonus health gained</p>\\n  \\n  <p><strong>Towers</strong>\\n  Local gold:: 250 &gt;&gt;&gt; 100\\n  Global gold:: 100 &gt;&gt;&gt; 50\\n  Bonus AD after 7 minutes:: 28 &gt;&gt;&gt; 70</p>\\n  \\n  <p><strong>Items</strong>\\n  Force of Nature cost:: 2700g &gt;&gt;&gt; 2900g\\n  Death Fire Grasp cost:: 2900g &gt;&gt;&gt; 3000g</p>\\n  \\n  <p><strong>Events</strong>\\n  Battle Royale\\n  -Adjusted circle positions to be significantly less likely to center on an enemy tower.\\n  -Bardle Royale and Juggernaut can no longer both appear in the same game.\\n  -Juggernaut health buffed by 500 - 1000 based on level</p>\\n  \\n  <p>King of the Hill\\n  -Hill burn:: 2% max health per second &gt;&gt;&gt; 2.5% max health per second\\n  -Adjusted hill positions to be significantly less likely to appear under an enemy tower.</p>\\n  \\n  <p>Push the Cart\\n  -Fixed a bug where the cart would freak out in the middle of the map and not push in the right direction.</p>\\n  \\n  <p>Snowball Fight\\n  -Added a buff to track how many snowballs you've hit\\n  -Added SFX and VFX to snowballs</p>\\n  \\n  <p>Sudden Death\\n  -Nexus minions scale harder and deal more damage\\n  -Nexus minions are now tagged as monsters (sorry Vayne)</p>\\n  \\n  <p><strong>Global Aura</strong>\\n  -Mana regen:: +40% bonus level 1 regen &gt;&gt;&gt; +4 mana per 5 seconds.</p>\\n</blockquote>\\n\", 'title': 'Nexus Blitz PBE - Patch Notes and Feedback'} 63668866555400000\n",
      "{'author': 'Riot Laslow', 'category': 'General Discussion', 'date': datetime.datetime(2018, 7, 31, 21, 48, 40, 428000, tzinfo=tzlocal()), 'link': 'https://boards.na.leagueoflegends.com/en/c/general-discussion/63chg3BJ-riot-direct-ama?comment=001a0000000000000000000000000000', 'parent_content': '<blockquote>\\n  <p><a href=\"name=Riot LasIow,realm=NA,application-id=yrc23zHg,discussion-id=63chg3BJ,comment-id=001a00000000000000000000,timestamp=2018-07-31T21:26:05.814+0000\">{quoted}</a></p>\\n  \\n  <p>Honestly just depends on who you actually play.  I can tell you how to play around Singed based on who you have.</p>\\n</blockquote>\\n\\n<p>Hmm, let me come up with a list of champs I tend to play top.</p>\\n\\n<p>How about Wukong? Not with the assassin build that became meta recently, but his old fashioned juggernaut build.</p>\\n\\n<p>Or Kled? (I\\'m thinking of picking him up because his VO is so funny).</p>\\n\\n<p>HalcyonDweller</p>\\n', 'post_content': '<blockquote>\\n  <p><a href=\"name=HalcyonDweller,realm=NA,application-id=yrc23zHg,discussion-id=63chg3BJ,comment-id=001a000000000000000000000000,timestamp=2018-07-31T21:45:31.932+0000\">{quoted}</a></p>\\n  \\n  <p>Hmm, let me come up with a list of champs I tend to play top.</p>\\n  \\n  <p>How about Wukong? Not with the assassin build that became meta recently, but his old fashioned juggernaut build.</p>\\n  \\n  <p>Or Kled? (I&#x27;m thinking of picking him up because his VO is so funny).</p>\\n</blockquote>\\n\\n<p>As Wukong:</p>\\n\\n<p>Keep trading and make sure to weave in your auto attacks, this will proc electrocute and allow you to win each trade.  Make sure you never take a fling by using your clone appropriately.</p>\\n\\n<p>As Kled: Wait until you have level 3 and you should be able to win most trades even if Singed flings you.  His triple hit is brutal.</p>\\n', 'title': 'Riot Direct AMA!'} 63668670520428000\n"
     ]
    }
   ],
   "source": [
    "from whoosh.qparser import QueryParser\n",
    "from whoosh.qparser import FuzzyTermPlugin\n",
    "parser = QueryParser(\"post_content\", ix.schema)\n",
    "parser.add_plugin(FuzzyTermPlugin())\n",
    "myquery = parser.parse(\"Juggernaut~1\")\n",
    "with ix.searcher() as searcher:\n",
    "    results = searcher.search(myquery, limit=10, sortedby=\"date\", reverse=True)\n",
    "    for i in results:\n",
    "        print(dict(i), i.score)"
   ]
  },
  {
   "cell_type": "code",
   "execution_count": 3,
   "metadata": {},
   "outputs": [
    {
     "data": {
      "text/plain": [
       "FuzzyTerm('post_content', 'juggernaut', boost=1.000000, maxdist=1, prefixlength=0)"
      ]
     },
     "execution_count": 3,
     "metadata": {},
     "output_type": "execute_result"
    }
   ],
   "source": [
    "parser.parse(\"Juggernaut~1\")"
   ]
  },
  {
   "cell_type": "code",
   "execution_count": 69,
   "metadata": {},
   "outputs": [
    {
     "ename": "SyntaxError",
     "evalue": "invalid syntax (<ipython-input-69-1edfc799aaae>, line 4)",
     "output_type": "error",
     "traceback": [
      "\u001b[0;36m  File \u001b[0;32m\"<ipython-input-69-1edfc799aaae>\"\u001b[0;36m, line \u001b[0;32m4\u001b[0m\n\u001b[0;31m    myquery = parser.parse(\"Mage AND Genius\"~2)\u001b[0m\n\u001b[0m                                            ^\u001b[0m\n\u001b[0;31mSyntaxError\u001b[0m\u001b[0;31m:\u001b[0m invalid syntax\n"
     ]
    }
   ],
   "source": [
    "\n",
    "parser = QueryParser(\"post_content\", ix.schema)\n",
    "parser.add_plugin(FuzzyTermPlugin())\n",
    "myquery = parser.parse(\"Mage AND Genius\"~2)"
   ]
  },
  {
   "cell_type": "code",
   "execution_count": 31,
   "metadata": {},
   "outputs": [
    {
     "name": "stdout",
     "output_type": "stream",
     "text": [
      "{'author': 'AD Yuumi', 'category': 'Gameplay', 'date': datetime.datetime(2016, 8, 4, 22, 56, 34, 618000, tzinfo=tzlocal()), 'link': 'https://boards.na.leagueoflegends.com/en/c/gameplay-balance/tW0IZbya-i-really-like-how-jhin-is-designed?comment=001d', 'parent_content': '<p>(this post is not about balance, but kit design much like my fiora one)\\nHe&#039;s the epitome of a sniper. High amounts of damage on the bullets/abilities but fairly long cooldowns, much like a snpier in real life has to reload before shooting again. \\nHis abilities are all fairly unique. His passive is essentially trigonometry, his Q is a point and click that still takes skill to land if you want max damage, his W is a great utility and sniping tool, his E is a unique trap (unlike other ones {{champion:17}} {{champion:51}} it allows you to walk out of it), and his ult is simply amazing. \\nHis ult allows for a lot more counterplay than people give it, you can dodge, block, and walk out of the range of the bullets. It leaves him vulnerable while he his ulting so good positioning is rewarded.</p>\\n\\n<p>Don&#039;t even get me started on his VO and visual effects. Killing someone with him just looks beautiful(as it should).</p>\\n\\n<p>Good on you rito, you made a well designed champion.\\nNow im just waiting for duskblade to be meelee only ;-;</p>\\n\\n<p>Marshbouy</p>\\n', 'post_content': '<p>Thanks!  Both WaarghBobo, myself, and other members of the Jhin pod saw this thread and really appreciate your comments.</p>\\n\\n<p>Means a lot to see that you guys are enjoying our favorite artistic-assassin-carry-mage-support-murder-guy</p>\\n\\n<p>I too am really happy with how the R turned out.  The damage may be tuned a bit high, but I think the overall feel of \"you\\'re being pinned by a sniper\" has shaped up pretty well for both playing as and against.</p>\\n\\n<p>Keep on sniping!</p>\\n\\n<p>\"They\\'re gonna live until they die.\" \\n-A total genius</p>\\n', 'title': 'I really like how Jhin is designed.'} 63605948194618000\n",
      "{'author': 'Riot Koalifier', 'category': 'Gameplay', 'date': datetime.datetime(2016, 4, 28, 0, 57, 54, 301000, tzinfo=tzlocal()), 'link': 'https://boards.na.leagueoflegends.com/en/c/gameplay-balance/n2uUEoPh-steraks-gage-shield-no-longer-stacks-with-hexdrinkermaw?comment=000300010007000000040000', 'parent_content': '<p>Nope Master Arcanist Fizz is best</p>\\n\\n<p>PROJECT Katarìna</p>\\n', 'post_content': \"<p>Man it would be awesome if we made a new {{champion:105}} skin... I don't think Master Arcanist theme would really make sense. Would he be like.. battle-mage Fizz or something? Stabbing people with a scepter? Creating a portal that summons... a demon... and he phases out of existence by leaping on his scepter... his Q he would be propulsed by the scepter... holy shit you're a genius.</p>\\n\", 'title': \"Sterak's Gage shield no longer stacks with Hexdrinker/Maw\"} 63597401874301000\n"
     ]
    }
   ],
   "source": [
    "with ix.searcher() as searcher:\n",
    "    results = searcher.search(myquery, limit=10, sortedby=\"date\", reverse=True)\n",
    "    for i in results:\n",
    "        print(dict(i), i.score)"
   ]
  },
  {
   "cell_type": "code",
   "execution_count": 88,
   "metadata": {},
   "outputs": [
    {
     "name": "stdout",
     "output_type": "stream",
     "text": [
      "{'author': 'Riot Lutzburg', 'category': 'Concepts & Creations', 'date': datetime.datetime(2020, 3, 9, 7, 37, 56, 447000, tzinfo=tzlocal()), 'link': 'https://boards.na.leagueoflegends.com/en/c/skin-champion-concepts/gE2G474t-goodbye-cc-boards-and-thank-you', 'post_content': '<p>Between 2013 and 2017, I called this place home.  I met a lot of talented  and helpful players, had an outlet to express my creativity, and ended up building a portfolio that would (at least in small part) help me secure a career at Riot.</p>\\n\\n<p>To anyone who ever gave me feedback, helped with my concepts, or simply left an upvote or downvote, thank you.  The C&amp;C boards will be missed.</p>\\n\\n<p>{{sticker:slayer-pantheon-thumbs}}</p>\\n', 'title': 'Goodbye C&C Boards, and Thank You'} 63719336276447000\n",
      "{'author': 'Riot Morgageddon', 'category': 'Live Incident Breakdown', 'date': datetime.datetime(2020, 3, 9, 6, 36, 33, 671000, tzinfo=tzlocal()), 'link': 'https://boards.na.leagueoflegends.com/en/c/live-incident-breakdown-na/at9hE8zH-so-long-and-thanks-for-all-the-fish?comment=00000000', 'parent_content': '<p><strong>42</strong>, over and out.</p>\\n\\n<p>Lexually</p>\\n', 'post_content': '<blockquote>\\n  <p><a href=\"name=Lexually,realm=NA,application-id=6WpmgL9O,discussion-id=at9hE8zH,comment-id=0000,timestamp=2020-03-09T05:27:47.980+0000\">{quoted}</a></p>\\n  \\n  <p><strong>42</strong>, over and out.</p>\\n</blockquote>\\n\\n<p><strong>Roger Roger</strong></p>\\n', 'title': 'So long and thanks for all the fish!'} 63719332593671000\n",
      "{'author': 'Riot Morgageddon', 'category': 'Live Incident Breakdown', 'date': datetime.datetime(2020, 3, 9, 6, 35, 55, 775000, tzinfo=tzlocal()), 'link': 'https://boards.na.leagueoflegends.com/en/c/live-incident-breakdown-na/at9hE8zH-so-long-and-thanks-for-all-the-fish?comment=00010000', 'parent_content': '<p>{{sticker:zombie-nunu-tears}} Thanks for posting Riot Morgageddon {{sticker:zombie-nunu-tears}}</p>\\n\\n<p>Aeszarck</p>\\n', 'post_content': '<blockquote>\\n  <p><a href=\"name=Aeszarck,realm=NA,application-id=6WpmgL9O,discussion-id=at9hE8zH,comment-id=0001,timestamp=2020-03-09T05:47:59.536+0000\">{quoted}</a></p>\\n  \\n  <p>{{sticker:zombie-nunu-tears}} Thanks for posting Riot Morgageddon {{sticker:zombie-nunu-tears}}</p>\\n</blockquote>\\n\\n<p>Thanks for being here with us :)</p>\\n', 'title': 'So long and thanks for all the fish!'} 63719332555775000\n",
      "{'author': 'Riot Morgageddon', 'category': 'Live Incident Breakdown', 'date': datetime.datetime(2020, 3, 9, 6, 35, 27, 361000, tzinfo=tzlocal()), 'link': 'https://boards.na.leagueoflegends.com/en/c/live-incident-breakdown-na/at9hE8zH-so-long-and-thanks-for-all-the-fish?comment=00020000', 'parent_content': '<p>Take care! &lt;3</p>\\n\\n<p>Helpmexdplease</p>\\n', 'post_content': '<blockquote>\\n  <p><a href=\"name=Helpmexdplease,realm=NA,application-id=6WpmgL9O,discussion-id=at9hE8zH,comment-id=0002,timestamp=2020-03-09T06:08:51.422+0000\">{quoted}</a></p>\\n  \\n  <p>Take care! &lt;3</p>\\n</blockquote>\\n\\n<p>No YOU take care!</p>\\n', 'title': 'So long and thanks for all the fish!'} 63719332527361000\n",
      "{'author': 'Riot Morgageddon', 'category': 'Live Incident Breakdown', 'date': datetime.datetime(2020, 3, 9, 6, 34, 59, 71000, tzinfo=tzlocal()), 'link': 'https://boards.na.leagueoflegends.com/en/c/live-incident-breakdown-na/at9hE8zH-so-long-and-thanks-for-all-the-fish?comment=00040000', 'parent_content': '<p>Have a great one. Good Luck both in your games and out of your games.</p>\\n\\n<p>DaenrysTargaryen</p>\\n', 'post_content': '<blockquote>\\n  <p><a href=\"name=DaenrysTargaryen,realm=NA,application-id=6WpmgL9O,discussion-id=at9hE8zH,comment-id=0004,timestamp=2020-03-09T06:17:08.005+0000\">{quoted}</a></p>\\n  \\n  <p>Have a great one. Good Luck both in your games and out of your games.</p>\\n</blockquote>\\n\\n<p>You too, and if only S8 wasn\\'t crapola on a hot plate of bad.</p>\\n', 'title': 'So long and thanks for all the fish!'} 63719332499071000\n",
      "{'author': 'Riot Morgageddon', 'category': 'Live Incident Breakdown', 'date': datetime.datetime(2020, 3, 9, 6, 34, 10, 931000, tzinfo=tzlocal()), 'link': 'https://boards.na.leagueoflegends.com/en/c/live-incident-breakdown-na/at9hE8zH-so-long-and-thanks-for-all-the-fish?comment=00030000', 'parent_content': '<p>Later Morg, hope to see you on the Rift here and there!</p>\\n\\n<p>Deep Terror Nami</p>\\n', 'post_content': '<blockquote>\\n  <p><a href=\"name=Deep Terror Nami,realm=NA,application-id=6WpmgL9O,discussion-id=at9hE8zH,comment-id=0003,timestamp=2020-03-09T06:14:47.670+0000\">{quoted}</a></p>\\n  \\n  <p>Later Morg, hope to see you on the Rift here and there!</p>\\n</blockquote>\\n\\n<p>I ain\\'t goin nowhere, you\\'ll still see me on ARAMs and are welcome to invite me!</p>\\n', 'title': 'So long and thanks for all the fish!'} 63719332450931000\n",
      "{'author': 'Riot Morgageddon', 'category': 'Live Incident Breakdown', 'date': datetime.datetime(2020, 3, 9, 5, 22, 11, 283000, tzinfo=tzlocal()), 'link': 'https://boards.na.leagueoflegends.com/en/c/live-incident-breakdown-na/at9hE8zH-so-long-and-thanks-for-all-the-fish', 'post_content': \"<p>Thanks for reading all the GBL posts from me and our small team!</p>\\n\\n<p>Been on Boards since before I left college, so it's been a long time. I shall miss most of you!</p>\\n\", 'title': 'So long and thanks for all the fish!'} 63719328131283000\n",
      "{'author': 'kami banani', 'category': 'Bugs', 'date': datetime.datetime(2020, 3, 6, 22, 44, 36, 272000, tzinfo=tzlocal()), 'link': 'https://boards.pbe.leagueoflegends.com/en/c/bugs/5shnaQKO-i-cannot-contact-riot-games-support-in-any-way?comment=0001', 'parent_content': '<p>I urgently need to talk to a Riot Employee due to an account issue but I cant find a way to contact them.</p>\\n\\n<p>I cannot Contact Riot Games Support through their own Website.\\nI cannot find a single viable E-Mail Adress.\\nI do not have Twitter.</p>\\n\\n<p>Whenever I try to submit the ticket, the whole website just reloads and nothing happens.</p>\\n\\n<p>I tried changing language, I tried changing the region, tried using other words, or different type of requests, nothing helps.</p>\\n\\n<p>Maybe someone here has an alternative idea? Its been an hour and I still cant find any solution.</p>\\n\\n<p>EDIT 1: Changing  Browser doesnt help either.</p>\\n\\n<p>ÆdølfKlττlεr</p>\\n', 'post_content': \"<p>If this is not about PBE and/or Amy's solution doesn't work for you, you can contact PS via email: support@riotgames.com (which is in the TOS, for future reference!).</p>\\n\", 'title': 'I cannot contact Riot Games Support in any way'} 63719131476272000\n",
      "{'author': 'Xenogenic', 'category': 'Report a Bug', 'date': datetime.datetime(2020, 3, 6, 22, 16, 22, 755000, tzinfo=tzlocal()), 'link': 'https://boards.na.leagueoflegends.com/en/c/bug-report/di6W7AJw-gangplank-series-1-eternal-bug-gameplay-client?comment=0001', 'parent_content': '<p>This is a bug with an eternal; I\\'m not certain whether this fits under [GAMEPLAY] or [CLIENT]</p>\\n\\n<p>Gangplank\\'s series 1 eternal \"Plunder\" does not track gold plundered via shooting barrels- it only tracks gold plundered by directly shooting minions. </p>\\n\\n<p>3 of 3 Gankplank games with the eternal equipped confirm this.</p>\\n\\n<p>Steps to reproduce:</p>\\n\\n<pre><code> 1: Play Gangplank with his Series 1 Eternal.\\n 2: Q a barrel as Gangplank such that you kill some minions and get some gold from Parrrley.\\n 3: Look disappointedly at your unchanged eternal.\\n</code></pre>\\n\\n<p>This is 100% consistent.</p>\\n\\n<p>Here\\'s a screenshot where, because of this bug, I have more plundered gold than is being tracked by the eternal: <a href=\"https://imgur.com/a/jVGQ17N\">Link</a></p>\\n\\n<p>Kazbell</p>\\n', 'post_content': \"<p>Thanks for reporting this.  I've found the issue and will be shipping a fix.  However, it won't be live until 10.6</p>\\n\", 'title': 'Gangplank Series 1 Eternal Bug [Gameplay?] [Client?]'} 63719129782755000\n",
      "{'author': 'Riot Porosite', 'category': 'Bugs', 'date': datetime.datetime(2020, 3, 6, 21, 37, 49, 220000, tzinfo=tzlocal()), 'link': 'https://boards.pbe.leagueoflegends.com/en/c/bugs/sGHpvr3A-saying-farewell-to-boards', 'post_content': '<p>As some of you may already know, we are closing down the <a href=\"https://na.leagueoflegends.com/en-us/news/community/saying-farewell-to-boards/\">League of Legends Boards</a> starting on March 9th. First I’d like to thank everyone that has engaged with the PBE, from critiquing upcoming content to reporting the game’s most frustrating bugs. </p>\\n\\n<p>Though the Boards are going away, we think the value you add to League is important for us to constantly improve what we produce! We’ve been exploring alternative solutions specifically for gathering feedback on PBE builds, but these won’t be ready by the time the Boards change to read-only next Monday. </p>\\n\\n<p>In the interim... </p>\\n\\n<ul>\\n<li><p>For bug reports please continue to use the Report A Bug button to send bugs you find our way! \\nhttps://imgur.com/Su415gE</p></li>\\n<li><p>If you’re encountering any major issues and need assistance, Player Support is available! Just reach out with your Live Account and let them know you need assistance with your PBE account. </p></li>\\n<li><p>For feedback on content that comes out before we have our alternative set up, we will be posting a Feedback post to the <a href=\"https://www.reddit.com/r/leagueoflegends/\">League of Legends subreddit</a>. </p></li>\\n<li><p>In addition, we will be monitoring /r/leagueoflegends more closely than usual for PBE issues.</p></li>\\n<li><p>If you’re looking for ways to stay involved with the PBE community, the <a href=\"https://discord.gg/s5qR8Kt\">Unofficial PBE Discord</a>, a player run Discord server, is a great place to join. </p></li>\\n</ul>\\n\\n<p>Thank you again for everything you all have contributed to the PBE and League of Legends.</p>\\n\\n<p>{{sticker:slayer-pantheon-thumbs}}</p>\\n', 'title': 'Saying Farewell to Boards'} 63719127469220000\n"
     ]
    }
   ],
   "source": [
    "from whoosh.query import Every\n",
    "myquery = Every()\n",
    "with ix.searcher() as searcher:\n",
    "    results = searcher.search(myquery, limit=10, sortedby=\"date\", reverse=True)\n",
    "    for i in results:\n",
    "        print(dict(i), i.score)"
   ]
  },
  {
   "cell_type": "code",
   "execution_count": 83,
   "metadata": {},
   "outputs": [
    {
     "name": "stdout",
     "output_type": "stream",
     "text": [
      "<Hit {'author': 'Statikk', 'category': 'Champions & Gameplay Feedback - Now Disabled', 'date': datetime.datetime(2015, 8, 5, 2, 50, 7, 69000, tzinfo=tzlocal()), 'link': 'https://boards.pbe.leagueoflegends.com/en/c/champions-gameplay-feedback/Grx91k8I-darius-pbe-changelist-and-feedback?comment=000b00020000', 'parent_content': '<p>So, Statikk, played my first PBE match with Darius and have to say he felt in such a brief testing way more fair. Such a powerful champ that was able to frontload so much damage in lane always felt super hokey. Now with the delay on his Q, it feels (even when I\\'m playing him) like there\\'s some skill involved. And, the enemy has some indication and time to react. Felt good.</p>\\n\\n<p>He feels way slower than normal and it\\'s definitely noticed, especially on an already slow champ. Could be that Trinity Force is a rush item on him (it\\'s frequently built live anyways) for the Movespeed alone. Without I was having a heckuva time catching up to targets. Had to wade into teamfights to start having some impact.</p>\\n\\n<p>But my word, once you reach the teamfights... The nerf-cries are coming. You feel like Oprah. \"You get a dunk! And you get a dunk! EVERYBODY GETS A DUNK!!!!\"</p>\\n\\n<p>Calibretto9</p>\\n', 'post_content': '<p>Yeah Darius is one of the more pure, raw Juggernauts in the game. He truly has no movement bonuses and has fairly limited reach (though his reach is better than some of the other Juggernauts that do exist).</p>\\n\\n<p>Hopefully Darius feels powerful for being that clean-up monster that none of the other Juggernauts can bring to the table.</p>\\n', 'title': 'Darius PBE Changelist and Feedback'}>\n",
      "{'author': 'Statikk', 'category': 'Champions & Gameplay Feedback - Now Disabled', 'date': datetime.datetime(2015, 8, 5, 2, 50, 7, 69000, tzinfo=tzlocal()), 'link': 'https://boards.pbe.leagueoflegends.com/en/c/champions-gameplay-feedback/Grx91k8I-darius-pbe-changelist-and-feedback?comment=000b00020000', 'parent_content': '<p>So, Statikk, played my first PBE match with Darius and have to say he felt in such a brief testing way more fair. Such a powerful champ that was able to frontload so much damage in lane always felt super hokey. Now with the delay on his Q, it feels (even when I\\'m playing him) like there\\'s some skill involved. And, the enemy has some indication and time to react. Felt good.</p>\\n\\n<p>He feels way slower than normal and it\\'s definitely noticed, especially on an already slow champ. Could be that Trinity Force is a rush item on him (it\\'s frequently built live anyways) for the Movespeed alone. Without I was having a heckuva time catching up to targets. Had to wade into teamfights to start having some impact.</p>\\n\\n<p>But my word, once you reach the teamfights... The nerf-cries are coming. You feel like Oprah. \"You get a dunk! And you get a dunk! EVERYBODY GETS A DUNK!!!!\"</p>\\n\\n<p>Calibretto9</p>\\n', 'post_content': '<p>Yeah Darius is one of the more pure, raw Juggernauts in the game. He truly has no movement bonuses and has fairly limited reach (though his reach is better than some of the other Juggernauts that do exist).</p>\\n\\n<p>Hopefully Darius feels powerful for being that clean-up monster that none of the other Juggernauts can bring to the table.</p>\\n', 'title': 'Darius PBE Changelist and Feedback'} 63574339807069000\n"
     ]
    }
   ],
   "source": [
    "\n",
    "parser = QueryParser(\"link\", ix.schema)\n",
    "parser.add_plugin(FuzzyTermPlugin())\n",
    "myquery = parser.parse(\"https://boards.pbe.leagueoflegends.com/en/c/champions-gameplay-feedback/Grx91k8I-darius-pbe-changelist-and-feedback?comment=000b00020000\")\n",
    "with ix.searcher() as searcher:\n",
    "    results = searcher.search(myquery, limit=10, sortedby=\"date\", reverse=True)\n",
    "    print(results[0])\n",
    "    for i in results:\n",
    "        print(dict(i), i.score)"
   ]
  },
  {
   "cell_type": "code",
   "execution_count": 92,
   "metadata": {},
   "outputs": [
    {
     "data": {
      "text/plain": [
       "False"
      ]
     },
     "execution_count": 92,
     "metadata": {},
     "output_type": "execute_result"
    }
   ],
   "source": [
    "results.is_empty()"
   ]
  },
  {
   "cell_type": "code",
   "execution_count": 96,
   "metadata": {},
   "outputs": [],
   "source": [
    "with ix.searcher() as searcher:\n",
    "    list_category = list(searcher.lexicon(\"category\"))"
   ]
  },
  {
   "cell_type": "code",
   "execution_count": 100,
   "metadata": {},
   "outputs": [
    {
     "data": {
      "text/plain": [
       "['Announcements',\n",
       " 'Ask the Community',\n",
       " 'Battlegrounds',\n",
       " 'Boards Feedback',\n",
       " 'Breaking News',\n",
       " 'Bug Reports',\n",
       " 'Bugs',\n",
       " 'Bugy - audio',\n",
       " 'Bugy - ostatní',\n",
       " 'Champions & Gameplay',\n",
       " 'Champions & Gameplay Feedback - Now Disabled',\n",
       " 'Champions & Skins',\n",
       " 'Clash',\n",
       " 'Client Discussion',\n",
       " 'Client Support',\n",
       " 'Community Creations',\n",
       " 'Community Reporters (Private)',\n",
       " 'Concepts & Creations',\n",
       " 'Cosplay',\n",
       " 'Creations & Concepts',\n",
       " 'DC test',\n",
       " 'Dev Corner',\n",
       " 'Discuss the Boards',\n",
       " 'Discussions',\n",
       " 'Dícséretek',\n",
       " 'Egyéb bugok (nem magyar hibák)',\n",
       " 'Esports',\n",
       " 'Events & Tournaments',\n",
       " 'Fan Fiction',\n",
       " 'Feature Feedback',\n",
       " 'Fogalmazásbeli javaslatok',\n",
       " 'Gameplay',\n",
       " 'Games, Contests & Jokes',\n",
       " 'General Discussion',\n",
       " 'General PBE Feedback - Now Disabled',\n",
       " 'Help Desk',\n",
       " 'Hibák a szinkronban',\n",
       " 'Live Gameplay Balance',\n",
       " 'Live Incident Breakdown',\n",
       " 'Looking For Game',\n",
       " 'Looking For Team',\n",
       " 'Magyar fogalmak megvitatása',\n",
       " 'Maps & Modes',\n",
       " 'Mechs vs Minions',\n",
       " 'Memes & Games',\n",
       " 'Minden egyéb',\n",
       " 'New Player Advice',\n",
       " 'Návrhy na vylepšení',\n",
       " 'OLD Memes & Games',\n",
       " 'Obecná diskuze',\n",
       " 'Off-topic',\n",
       " 'Ostatní',\n",
       " 'Pentakill',\n",
       " 'Player Behavior',\n",
       " 'Player Behaviour',\n",
       " 'Ragnarök',\n",
       " 'Report a Bug',\n",
       " 'Roleplaying',\n",
       " 'Service Status',\n",
       " 'Site Feedback - Now Disabled',\n",
       " 'Sound & Music',\n",
       " 'Story, Art, & Sound',\n",
       " 'Streams & Videos',\n",
       " 'Suggestions & Bug Reports',\n",
       " 'Szöveges hibák',\n",
       " 'Teamfight Tactics',\n",
       " 'Teams, Clubs & Tournaments',\n",
       " 'Teams, Clubs & Tournaments EUNE',\n",
       " 'Technical Support',\n",
       " 'Test Riot Official',\n",
       " 'Tips & Tricks',\n",
       " 'Vélemények a szinkronról',\n",
       " '[ARCHIVED] Alpha Client Bugs',\n",
       " '[ARCHIVED] Fantasy LCS',\n",
       " '[ARCHIVED] Gameplay+',\n",
       " '[ARCHIVED] General Discussion',\n",
       " '[ARCHIVED] Help & Support',\n",
       " '[ARCHIVED] Miscellaneous',\n",
       " '[ARCHIVED] Mobile App Discussion',\n",
       " '[ARCHIVED] Player Recruitment',\n",
       " '[ARCHIVED] Thunderdome: Team PVC',\n",
       " 'Általános vélemények']"
      ]
     },
     "execution_count": 100,
     "metadata": {},
     "output_type": "execute_result"
    }
   ],
   "source": [
    "[i.decode('UTF-8') for i in list_category]"
   ]
  },
  {
   "cell_type": "code",
   "execution_count": 4,
   "metadata": {},
   "outputs": [],
   "source": [
    "from whoosh.query import Term"
   ]
  },
  {
   "cell_type": "code",
   "execution_count": 143,
   "metadata": {},
   "outputs": [
    {
     "name": "stdout",
     "output_type": "stream",
     "text": [
      "<Hit {'author': 'Raxyel', 'category': 'Technical Support', 'date': datetime.datetime(2017, 10, 25, 8, 54, 28, 224000, tzinfo=tzlocal()), 'link': 'https://boards.euw.leagueoflegends.com/en/c/help-support-en/87XyAL48-2017-ranked-rewards-help-desk', 'post_content': '<blockquote>\\n  <blockquote>\\n    <p>Ranked Season Ends Details &lt;&lt; \\n    Have a question not answered below? Drop a comment and we’ll do our best to help you out! We also have a known issues and frequent questions thread here. </p>\\n  </blockquote>\\n</blockquote>\\n\\n<p>RANKED REWARDS</p>\\n\\n<p>When does the Season end?\\nThe season ends November 7th at 23:59 Server Time (This means GMT for EUW and CET for EUNE).\\nYou will need to be in the loading screen by Nov 7th, 23:59 Server Time for the final game to count.\\nChallenger spots lock at 23:45 Server Time so games must be completed before then.\\nWatch out for decay! Rankings lock at 23:59 Server Time.</p>\\n\\n<p>What rewards do I get?\\nBronze:  Summoner icon and profile insignia\\nSilver:  Summoner Icon, profile insignia, Victorious ward skin (2+ queues)1, and loading screen border (queue specific)\\nGold+:  Summoner Icon, profile insignia, Victorious ward skin (2+ queues)1, loading screen border (queue specific),\\n and Victorious Graves (Chromas per queue)2</p>\\n\\n<p>1So how do I get the Victorious ward?\\nYou can get it this season by achieving Silver or higher in any 2 ranked queues (3v3 Flex, Ranked Flex, Ranked Solo).</p>\\n\\n<p>2How does the chroma reward work?\\nWhile getting Gold in any ranked queue will grant you the Victorious skin (and unlock Graves), you’ll also receive different colored chromas depending on which ranked queue(s) you get Gold or higher in.</p>\\n\\n<p>HONOR REWARD\\nIf you end the season with Honor 3 or higher, you’ll get a special ward skin based on the honor level you ended the season with!</p>\\n\\n<p>DISQUALIFICATION\\nAs announced in August, certain players are ineligible for this season’s rewards:\\nPlayers with bans or chat restrictions active when the season ends.\\nPlayers issued a ban of 7 days or more after Aug 22nd, 23:59 Pacific Time.\\nPlayers banned for boosting during the 2017 season.\\nPlayers who experience fraud-related or erroneous bans will still be eligible. Players hit with LeaverBuster will also be eligible.</p>\\n\\n<p>What if I get a chat restriction or ban after the season ends?\\nYou’ll still get your rewards even if they haven’t been distributed yet. Count yourself lucky and reflect on the reasoning why the punishment was issued!</p>\\n\\n<p>What if I have Honor 2 or below?\\nYou’ll get rewards as long as you do not hit the ineligibility criteria above.</p>\\n\\n<p>REWARD DISTRIBUTION\\nAll rewards will be distributed in the coming months after the end of season. We’ll give further updates as rewards are sent out regarding timelines!\\nSome rewards may appear faster than others so don’t worry if you don’t get them all at once.</p>\\n\\n<p>I don’t want my border!!\\nReally? You sure? Once you receive rewards on your account, send in a support ticket and we’ll help you out!</p>\\n\\n<p>RANKED BORDERS\\nHere is a list of borders for the end of 2017 ranked season!</p>\\n\\n<p>Normal SR: Shows highest of Solo/Duo or Flex\\nNormal TT: Shows TT Flex reward\\nRotating Game Mode/ARAM/Custom: Shows highest of any reward\\nCo-op vs. AI Summoner’s Rift - Shows highest of Solo/Duo or Flex reward\\nCo-op vs. AI Twisted Treeline - Shows TT Flex reward\\nRanked Solo/Duo: Shows Solo/Duo reward\\nRanked Flex SR/Flex TT: Shows Flex reward, depending on SR or TT</p>\\n\\n<p>Back to the top</p>\\n', 'title': '2017 RANKED REWARDS HELP DESK'}>\n",
      "1\n"
     ]
    }
   ],
   "source": [
    "'''parser = QueryParser(\"category\", ix.schema)\n",
    "parser.add_plugin(FuzzyTermPlugin())\n",
    "myquery = parser.parse(\"Általános vélemények\")'''\n",
    "\n",
    "myquery = Term('author','Raxyel')\n",
    "\n",
    "with ix.searcher() as searcher:\n",
    "    results = searcher.search(myquery, limit=20, sortedby=\"date\", reverse=True)\n",
    "    print(results[0])\n",
    "    print(results.estimated_length())"
   ]
  },
  {
   "cell_type": "code",
   "execution_count": 123,
   "metadata": {},
   "outputs": [],
   "source": [
    "all_cats_stats = []\n",
    "for cat in [i.decode('UTF-8') for i in list_category]:\n",
    "    myquery = Term('category',cat)\n",
    "    with ix.searcher() as searcher:\n",
    "        results = searcher.search(myquery)\n",
    "        cat_stats = {\"name\":cat,\"region\":results[0][\"link\"].split(\".\")[1],\"entries\":results.estimated_length()}\n",
    "        all_cats_stats.append(cat_stats)"
   ]
  },
  {
   "cell_type": "code",
   "execution_count": 124,
   "metadata": {},
   "outputs": [
    {
     "data": {
      "text/plain": [
       "[{'name': 'Announcements', 'region': 'euw', 'entries': 3650},\n",
       " {'name': 'Ask the Community', 'region': 'na', 'entries': 65},\n",
       " {'name': 'Battlegrounds', 'region': 'euw', 'entries': 146},\n",
       " {'name': 'Boards Feedback', 'region': 'euw', 'entries': 1621},\n",
       " {'name': 'Breaking News', 'region': 'na', 'entries': 2},\n",
       " {'name': 'Bug Reports', 'region': 'euw', 'entries': 983},\n",
       " {'name': 'Bugs', 'region': 'pbe', 'entries': 4387},\n",
       " {'name': 'Bugy - audio', 'region': 'pbe', 'entries': 4},\n",
       " {'name': 'Bugy - ostatní', 'region': 'pbe', 'entries': 4},\n",
       " {'name': 'Champions & Gameplay', 'region': 'euw', 'entries': 1414},\n",
       " {'name': 'Champions & Gameplay Feedback - Now Disabled',\n",
       "  'region': 'pbe',\n",
       "  'entries': 3277},\n",
       " {'name': 'Champions & Skins', 'region': 'na', 'entries': 797},\n",
       " {'name': 'Clash', 'region': 'na', 'entries': 2},\n",
       " {'name': 'Client Discussion', 'region': 'euw', 'entries': 1086},\n",
       " {'name': 'Client Support', 'region': 'euw', 'entries': 40},\n",
       " {'name': 'Community Creations', 'region': 'na', 'entries': 1414},\n",
       " {'name': 'Community Reporters (Private)', 'region': 'na', 'entries': 1},\n",
       " {'name': 'Concepts & Creations', 'region': 'na', 'entries': 2664},\n",
       " {'name': 'Cosplay', 'region': 'euw', 'entries': 30},\n",
       " {'name': 'Creations & Concepts', 'region': 'euw', 'entries': 216},\n",
       " {'name': 'DC test', 'region': 'na', 'entries': 6},\n",
       " {'name': 'Dev Corner', 'region': 'na', 'entries': 9563},\n",
       " {'name': 'Discuss the Boards', 'region': 'na', 'entries': 79},\n",
       " {'name': 'Discussions', 'region': 'na', 'entries': 1},\n",
       " {'name': 'Dícséretek', 'region': 'pbe', 'entries': 4},\n",
       " {'name': 'Egyéb bugok (nem magyar hibák)', 'region': 'pbe', 'entries': 12},\n",
       " {'name': 'Esports', 'region': 'euw', 'entries': 1179},\n",
       " {'name': 'Events & Tournaments', 'region': 'euw', 'entries': 128},\n",
       " {'name': 'Fan Fiction', 'region': 'euw', 'entries': 117},\n",
       " {'name': 'Feature Feedback', 'region': 'pbe', 'entries': 2423},\n",
       " {'name': 'Fogalmazásbeli javaslatok', 'region': 'pbe', 'entries': 54},\n",
       " {'name': 'Gameplay', 'region': 'na', 'entries': 9588},\n",
       " {'name': 'Games, Contests & Jokes', 'region': 'euw', 'entries': 341},\n",
       " {'name': 'General Discussion', 'region': 'na', 'entries': 1077},\n",
       " {'name': 'General PBE Feedback - Now Disabled',\n",
       "  'region': 'pbe',\n",
       "  'entries': 3266},\n",
       " {'name': 'Help Desk', 'region': 'na', 'entries': 151},\n",
       " {'name': 'Hibák a szinkronban', 'region': 'pbe', 'entries': 47},\n",
       " {'name': 'Live Gameplay Balance', 'region': 'na', 'entries': 407},\n",
       " {'name': 'Live Incident Breakdown', 'region': 'na', 'entries': 353},\n",
       " {'name': 'Looking For Game', 'region': 'na', 'entries': 7},\n",
       " {'name': 'Looking For Team', 'region': 'na', 'entries': 1},\n",
       " {'name': 'Magyar fogalmak megvitatása', 'region': 'pbe', 'entries': 10},\n",
       " {'name': 'Maps & Modes', 'region': 'euw', 'entries': 605},\n",
       " {'name': 'Mechs vs Minions', 'region': 'na', 'entries': 178},\n",
       " {'name': 'Memes & Games', 'region': 'na', 'entries': 1297},\n",
       " {'name': 'Minden egyéb', 'region': 'pbe', 'entries': 58},\n",
       " {'name': 'New Player Advice', 'region': 'euw', 'entries': 85},\n",
       " {'name': 'Návrhy na vylepšení', 'region': 'pbe', 'entries': 9},\n",
       " {'name': 'OLD Memes & Games', 'region': 'na', 'entries': 3},\n",
       " {'name': 'Obecná diskuze', 'region': 'pbe', 'entries': 4},\n",
       " {'name': 'Off-topic', 'region': 'euw', 'entries': 1912},\n",
       " {'name': 'Ostatní', 'region': 'pbe', 'entries': 2},\n",
       " {'name': 'Pentakill', 'region': 'na', 'entries': 81},\n",
       " {'name': 'Player Behavior', 'region': 'na', 'entries': 1498},\n",
       " {'name': 'Player Behaviour', 'region': 'euw', 'entries': 555},\n",
       " {'name': 'Ragnarök', 'region': 'euw', 'entries': 11},\n",
       " {'name': 'Report a Bug', 'region': 'na', 'entries': 5298},\n",
       " {'name': 'Roleplaying', 'region': 'na', 'entries': 47},\n",
       " {'name': 'Service Status', 'region': 'na', 'entries': 2},\n",
       " {'name': 'Site Feedback - Now Disabled', 'region': 'pbe', 'entries': 248},\n",
       " {'name': 'Sound & Music', 'region': 'na', 'entries': 562},\n",
       " {'name': 'Story, Art, & Sound', 'region': 'na', 'entries': 10022},\n",
       " {'name': 'Streams & Videos', 'region': 'euw', 'entries': 146},\n",
       " {'name': 'Suggestions & Bug Reports', 'region': 'euw', 'entries': 414},\n",
       " {'name': 'Szöveges hibák', 'region': 'pbe', 'entries': 100},\n",
       " {'name': 'Teamfight Tactics', 'region': 'na', 'entries': 8},\n",
       " {'name': 'Teams, Clubs & Tournaments', 'region': 'euw', 'entries': 50},\n",
       " {'name': 'Teams, Clubs & Tournaments EUNE', 'region': 'euw', 'entries': 2},\n",
       " {'name': 'Technical Support', 'region': 'euw', 'entries': 4483},\n",
       " {'name': 'Test Riot Official', 'region': 'na', 'entries': 1},\n",
       " {'name': 'Tips & Tricks', 'region': 'na', 'entries': 265},\n",
       " {'name': 'Vélemények a szinkronról', 'region': 'pbe', 'entries': 24},\n",
       " {'name': '[ARCHIVED] Alpha Client Bugs', 'region': 'na', 'entries': 18},\n",
       " {'name': '[ARCHIVED] Fantasy LCS', 'region': 'na', 'entries': 84},\n",
       " {'name': '[ARCHIVED] Gameplay+', 'region': 'na', 'entries': 10},\n",
       " {'name': '[ARCHIVED] General Discussion', 'region': 'na', 'entries': 3856},\n",
       " {'name': '[ARCHIVED] Help & Support', 'region': 'na', 'entries': 35029},\n",
       " {'name': '[ARCHIVED] Miscellaneous', 'region': 'na', 'entries': 6829},\n",
       " {'name': '[ARCHIVED] Mobile App Discussion', 'region': 'na', 'entries': 75},\n",
       " {'name': '[ARCHIVED] Player Recruitment', 'region': 'na', 'entries': 22},\n",
       " {'name': '[ARCHIVED] Thunderdome: Team PVC', 'region': 'na', 'entries': 26},\n",
       " {'name': 'Általános vélemények', 'region': 'pbe', 'entries': 17}]"
      ]
     },
     "execution_count": 124,
     "metadata": {},
     "output_type": "execute_result"
    }
   ],
   "source": [
    "all_cats_stats"
   ]
  },
  {
   "cell_type": "code",
   "execution_count": 137,
   "metadata": {},
   "outputs": [],
   "source": [
    "list_authors = []\n",
    "with ix.searcher() as searcher:\n",
    "    list_authors = list(searcher.lexicon(\"author\"))"
   ]
  },
  {
   "cell_type": "code",
   "execution_count": 141,
   "metadata": {},
   "outputs": [],
   "source": [
    "all_authors_stats = []\n",
    "for auth in [i.decode('UTF-8') for i in list_authors]:\n",
    "    myquery = Term('author',auth)\n",
    "    with ix.searcher() as searcher:\n",
    "        results = searcher.search(myquery)\n",
    "        author_stats = {\"name\":auth,\"entries\":results.estimated_length()}\n",
    "        all_authors_stats.append(author_stats)"
   ]
  },
  {
   "cell_type": "code",
   "execution_count": 144,
   "metadata": {},
   "outputs": [
    {
     "data": {
      "text/plain": [
       "1079"
      ]
     },
     "execution_count": 144,
     "metadata": {},
     "output_type": "execute_result"
    }
   ],
   "source": [
    "len(all_authors_stats)"
   ]
  },
  {
   "cell_type": "code",
   "execution_count": 147,
   "metadata": {},
   "outputs": [
    {
     "data": {
      "text/plain": [
       "124553"
      ]
     },
     "execution_count": 147,
     "metadata": {},
     "output_type": "execute_result"
    }
   ],
   "source": [
    "sum([i[\"entries\"] for i in all_authors_stats])"
   ]
  },
  {
   "cell_type": "code",
   "execution_count": 148,
   "metadata": {},
   "outputs": [
    {
     "data": {
      "text/plain": [
       "115.43373493975903"
      ]
     },
     "execution_count": 148,
     "metadata": {},
     "output_type": "execute_result"
    }
   ],
   "source": [
    "sum([i[\"entries\"] for i in all_authors_stats])/len(all_authors_stats)"
   ]
  },
  {
   "cell_type": "code",
   "execution_count": 149,
   "metadata": {},
   "outputs": [],
   "source": [
    "import json\n",
    "with open(\"all_authors_stats.json\",\"w\") as f:\n",
    "    json.dump(all_authors_stats, f)"
   ]
  },
  {
   "cell_type": "code",
   "execution_count": 150,
   "metadata": {},
   "outputs": [],
   "source": [
    "with open(\"all_cats_stats.json\",\"w\") as f:\n",
    "    json.dump(all_cats_stats, f)"
   ]
  },
  {
   "cell_type": "code",
   "execution_count": 151,
   "metadata": {},
   "outputs": [
    {
     "data": {
      "text/plain": [
       "[{'name': '18916244', 'entries': 1},\n",
       " {'name': '1deag', 'entries': 1},\n",
       " {'name': '20thCenturyFaux', 'entries': 149},\n",
       " {'name': '3PEET', 'entries': 1},\n",
       " {'name': '6armedrobot', 'entries': 87},\n",
       " {'name': '9Spur', 'entries': 18},\n",
       " {'name': 'A Good Shrubbery', 'entries': 2},\n",
       " {'name': 'A Red Herring', 'entries': 684},\n",
       " {'name': 'A Small Man', 'entries': 147},\n",
       " {'name': 'A1RD0G', 'entries': 43},\n",
       " {'name': 'AD Yuumi', 'entries': 455},\n",
       " {'name': 'ADC Waifu', 'entries': 5},\n",
       " {'name': 'ANVILANCHE', 'entries': 2},\n",
       " {'name': 'Aboot', 'entries': 15},\n",
       " {'name': 'AccuracyByVolume', 'entries': 10},\n",
       " {'name': 'Ace of Trolls', 'entries': 6},\n",
       " {'name': 'Aceanuu', 'entries': 2},\n",
       " {'name': 'Aeon Eternal', 'entries': 13},\n",
       " {'name': 'Aesah', 'entries': 186},\n",
       " {'name': 'AgentX91', 'entries': 8}]"
      ]
     },
     "execution_count": 151,
     "metadata": {},
     "output_type": "execute_result"
    }
   ],
   "source": [
    "all_authors_stats[:20]"
   ]
  },
  {
   "cell_type": "code",
   "execution_count": 172,
   "metadata": {},
   "outputs": [
    {
     "name": "stdout",
     "output_type": "stream",
     "text": [
      "190 µs ± 7.04 µs per loop (mean ± std. dev. of 7 runs, 1000 loops each)\n"
     ]
    }
   ],
   "source": [
    "%%timeit\n",
    "[all_indexed_authors_stats[i] for i in all_indexed_authors_stats.keys() if i.lower().startswith(\"Riot\")]"
   ]
  },
  {
   "cell_type": "code",
   "execution_count": 164,
   "metadata": {},
   "outputs": [
    {
     "name": "stdout",
     "output_type": "stream",
     "text": [
      "69.3 ns ± 0.586 ns per loop (mean ± std. dev. of 7 runs, 10000000 loops each)\n"
     ]
    }
   ],
   "source": [
    "%%timeit\n",
    "f = all_indexed_authors_stats.keys()"
   ]
  },
  {
   "cell_type": "code",
   "execution_count": 163,
   "metadata": {},
   "outputs": [],
   "source": [
    "all_indexed_authors_stats = {i[\"name\"]:i for i in all_authors_stats}"
   ]
  },
  {
   "cell_type": "code",
   "execution_count": 160,
   "metadata": {},
   "outputs": [],
   "source": [
    "from fuzzywuzzy import process"
   ]
  },
  {
   "cell_type": "code",
   "execution_count": 161,
   "metadata": {},
   "outputs": [
    {
     "data": {
      "text/plain": [
       "[('Statikk', 92),\n",
       " ('Saiyaka', 62),\n",
       " ('GerbilStrike', 60),\n",
       " ('Hitstreak', 60),\n",
       " ('Partiest Cat', 60),\n",
       " ('Riot Tiki', 60),\n",
       " ('Riot Trikny', 60),\n",
       " ('Satsui SquidmoX', 60),\n",
       " ('Sir Stabbington', 60),\n",
       " ('pasta mama', 57)]"
      ]
     },
     "execution_count": 161,
     "metadata": {},
     "output_type": "execute_result"
    }
   ],
   "source": [
    "process.extract(\"Statik\", [i[\"name\"] for i in all_authors_stats], limit=10)"
   ]
  },
  {
   "cell_type": "code",
   "execution_count": 162,
   "metadata": {},
   "outputs": [],
   "source": [
    "authors_name = [i[\"name\"] for i in all_authors_stats]"
   ]
  },
  {
   "cell_type": "code",
   "execution_count": 182,
   "metadata": {},
   "outputs": [],
   "source": [
    "def author_name_suggestion(name):\n",
    "    list_autocomplete = [all_indexed_authors_stats[i] for i in all_indexed_authors_stats.keys() if i.lower().startswith(name)]\n",
    "    list_suggestions = [all_indexed_authors_stats[i[0]] for i in process.extract(name, authors_name, limit=10-len(list_autocomplete))]\n",
    "    return list_autocomplete, list_suggestions"
   ]
  },
  {
   "cell_type": "code",
   "execution_count": 183,
   "metadata": {},
   "outputs": [
    {
     "data": {
      "text/plain": [
       "([{'name': 'Morello', 'entries': 320}],\n",
       " [{'name': 'Bradmore', 'entries': 35},\n",
       "  {'name': 'Morello', 'entries': 320},\n",
       "  {'name': 'Riot MoreChrono', 'entries': 98},\n",
       "  {'name': 'AutumnMemory', 'entries': 8},\n",
       "  {'name': 'Chombre', 'entries': 8},\n",
       "  {'name': 'Dark Morgana', 'entries': 374},\n",
       "  {'name': 'Ilsemprelaziale', 'entries': 7},\n",
       "  {'name': 'Kantorek', 'entries': 5},\n",
       "  {'name': 'Korensky', 'entries': 154}])"
      ]
     },
     "execution_count": 183,
     "metadata": {},
     "output_type": "execute_result"
    }
   ],
   "source": [
    "author_name_suggestion(\"more\")"
   ]
  },
  {
   "cell_type": "code",
   "execution_count": 25,
   "metadata": {},
   "outputs": [],
   "source": [
    "from whoosh.query import And"
   ]
  },
  {
   "cell_type": "code",
   "execution_count": 26,
   "metadata": {},
   "outputs": [],
   "source": [
    "myquery = parser.parse(\"Juggernaut~1\") & Term('category',\"Dev Corner\") & Term('author',\"Riot Scruffy\")"
   ]
  },
  {
   "cell_type": "code",
   "execution_count": 12,
   "metadata": {},
   "outputs": [
    {
     "data": {
      "text/plain": [
       "FuzzyTerm('post_content', 'juggernaut', boost=1.000000, maxdist=1, prefixlength=0)"
      ]
     },
     "execution_count": 12,
     "metadata": {},
     "output_type": "execute_result"
    }
   ],
   "source": [
    "myquery = parser.parse(\"Juggernaut~1\")\n",
    "myquery"
   ]
  },
  {
   "cell_type": "code",
   "execution_count": 13,
   "metadata": {},
   "outputs": [
    {
     "data": {
      "text/plain": [
       "And([FuzzyTerm('post_content', 'juggernaut', boost=1.000000, maxdist=1, prefixlength=0), Term('category', 'Dev Corner')])"
      ]
     },
     "execution_count": 13,
     "metadata": {},
     "output_type": "execute_result"
    }
   ],
   "source": [
    "myquery = myquery  & Term('category',\"Dev Corner\")\n",
    "myquery"
   ]
  },
  {
   "cell_type": "code",
   "execution_count": 14,
   "metadata": {},
   "outputs": [
    {
     "data": {
      "text/plain": [
       "And([FuzzyTerm('post_content', 'juggernaut', boost=1.000000, maxdist=1, prefixlength=0), Term('category', 'Dev Corner'), Term('author', 'Riot Scruffy')])"
      ]
     },
     "execution_count": 14,
     "metadata": {},
     "output_type": "execute_result"
    }
   ],
   "source": [
    "myquery = myquery & Term('author',\"Riot Scruffy\")\n",
    "myquery"
   ]
  },
  {
   "cell_type": "code",
   "execution_count": 11,
   "metadata": {},
   "outputs": [
    {
     "name": "stdout",
     "output_type": "stream",
     "text": [
      "{'author': 'Riot Scruffy', 'category': 'Dev Corner', 'date': datetime.datetime(2020, 1, 24, 17, 49, 27, 277000, tzinfo=tzlocal()), 'link': 'https://boards.na.leagueoflegends.com/en/c/developer-corner/Ex34iIQE-quick-gameplay-thought-january-24', 'post_content': '<p>Hey everyone. Riot Scruffy here, and I’m taking over for the Quick Gameplay Thoughts dev blog every other week. As Lead Gameplay Designer I manage the design teams that work on Champions, Game Balance, Items, the SR Map, Runes, Matchmaking, and Ranked. I plan to bring you all some updates and previews of upcoming work and go deeper into our reasoning and goals with the work that we do. Everything we add, change, and remove from LoL is done for a reason and we hope that our work makes the game better every patch. </p>\\n\\n<p><strong>Balance Strategy Refresh</strong>\\nThis won’t be news to many of you, but I thought it would be good to do a quick refresh of our balance strategy. The reality of League of Legends is that the game played at different levels of skill is like an entirely different game in terms of which champions and strategies are strong or weak. With this in mind, it’s impossible to have all 148 champions balanced at every level of play. </p>\\n\\n<p>Our approach is to slice the game into 4 different skill segments where we think balance is meaningfully different:</p>\\n\\n<ul>\\n<li>Normal (Iron - Gold)</li>\\n<li>Skilled (Plat - Master)</li>\\n<li>Elite (Grandmaster-Challenger)</li>\\n<li>Professional </li>\\n</ul>\\n\\n<p>And then ensure that every champ is:</p>\\n\\n<ul>\\n<li>Viable in at least one segment</li>\\n<li>Overpowered in no skill segments</li>\\n</ul>\\n\\n<p>The core reasoning behind this is that we think that an overpowered champion can suppress the viability and richness of the entire game meta, so we want to protect players of all skill levels from this unbalanced game state. </p>\\n\\n<p><strong>Jungle Followup</strong>\\nWith enough time to see the results on the preseason jungle changes, we’re seeing some goals were achieved and some not. </p>\\n\\n<ul>\\n<li>Small nerfs - the jungle XP and gold are nerfed, but it’s looking like it’s a bit too hard in particular on farming and later game junglers.</li>\\n<li>Pathing is more balanced - this goal was definitely achieved, not all paths are perfectly balanced with each other but we’re much closer here than we were in season 9</li>\\n<li>Less early ganks more farm - this goal was not achieved, we’re seeing roughly the same amount of early ganking as season 9</li>\\n</ul>\\n\\n<p>The plan - we’re looking to buff up jungle XP slightly and skew towards incentives to farm over gank</p>\\n\\n<ul>\\n<li>Buffing jungle XP per min for minutes 4-18 and spreading it across the less targeted camps that are often skipped by gank heavy junglers</li>\\n<li>Pushing back the minion farm penalty removal to further nerf funnel strategies (which are rare but extremely strong)</li>\\n</ul>\\n\\n<p><strong>Sett Release Retro</strong>\\nNow that Sett has been out for two weeks, I wanted to share some thoughts on how we think his gameplay turned out. Some of the long term effects of hit kit can’t really be known for sure at this point, but I still wanted to share my early thoughts.</p>\\n\\n<ul>\\n<li>Low complexity - Sett is a wonderful demonstration of how even in 2020, simple designs can be both satisfying and skillful. We want to do much more of this in the future where we focus on “quality over quantity” in our champ kits. </li>\\n<li>Unique but not game changing - Sett brings a few pretty exciting new ideas to the table like damage reflect and turning the enemy tank into a nuke. He isn’t redefining what a champion in LoL can be, but for his goals as an accessible top lane juggernaut, I think he’s on target. </li>\\n<li>Balance - Sett’s winrate has climbed over his first two weeks of play and he’s appearing to be a be viable as a top and jungle currently. It’s possible that he may need some slight nerfs in the future, but he doesn’t seem to be significantly OP today. </li>\\n<li>Clear weaknesses - Another success worth calling out is that Sett is powerful, but he provides enemies a clear opportunity for counterplay. </li>\\n</ul>\\n\\n<p><strong>Upcoming balance changes for 10.3:</strong>\\n<strong>Akali</strong> - Many of you already saw the Akali changes on PBE. Akali is dominating both pro and elite level play, but she’s not nearly as OP for skilled and normal. With that in mind we’re trying to reduce the amount of control she has over choosing when to fight, which is a core reason why she is such a strong pick at the top tier of play. The upside here is that if these mechanics changes make her a more counterable champion at the top levels of play, we can give her some more conventional buffs to allow her to be viable in regular play. After testing the initial changes, we’re making a few changes:\\nMoving away from “CC reveals her during W stealth” as it was making the experience unreliable in a confusing way and adding inconsistency to our stealth rules\\nCutting R2 speed decrease - this wasn’t getting us a lot of movement for how bad it felt\\nKeeping R1 as targeted as it’s effectively lowering both her escape tools and her super long range pick potential \\nExploring a few other alternatives like early ranks of Q energy cost being higher to reduce her lane trade and push power</p>\\n\\n<p><strong>Yuumi buffs</strong> - The Yuumi changes in patch 9.24 have left her with significant new weaknesses that allow us to give her a decent buff. The tactic we’re exploring right now is to buff Q rankups so that Q max is a viable build (letting her have an active playstyle instead of only E max build) </p>\\n\\n<p><strong>Aphelios</strong> - We’re adding a max range on caibrum marks. We intend to keep it as a very long range poke effect, but bring it in line with other similar mechanics like Caitlyn or Xerath. Frankly, cross map sniping is not interactive or interesting gameplay, so we’re removing it. </p>\\n\\n<p><strong>Senna</strong> - we want to shift a bit of power out of Markswoman position Senna to Support Senna. This probably means we’ll be tuning soul drops for when you get the minion kill vs when your ally does. </p>\\n\\n<p>These are just a few of the changes in for 10.3 - expect more info next week about the full patch. </p>\\n\\n<p>Thanks again everyone for playing. I’m excited to be making more posts like this about our design process and thinking. Feel free to drop questions or future topic requests in the comments.</p>\\n\\n<p>Scruffy\\nhttps://twitter.com/MarkYetter\\nhttps://ddragon.leagueoflegends.com/cdn/9.24.2/img/champion/Sion.png</p>\\n', 'title': 'Quick Gameplay Thought: January 24'} 63715484967277000\n",
      "{'author': 'Riot Scruffy', 'category': 'Dev Corner', 'date': datetime.datetime(2015, 12, 11, 18, 42, 28, 262000, tzinfo=tzlocal()), 'link': 'https://boards.na.leagueoflegends.com/en/c/developer-corner/xIY31zLt-intro-mark-riotscruffy-yetter-lead-game-designer-champions?comment=00320000', 'parent_content': \"<p>Is it safe to say it will literally take years to update the worst offenders when it comes to outdated design? \\nAre there any plans to speed up this process and focus less on releasing so many new champions? \\nWhy don't we see more MTUs like Maokai's or MF's? I thought those take less time and work but they are more scarce than new champion releases.</p>\\n\\n<p>Veridens</p>\\n\", 'post_content': '<p>Before we started doing the group updates like juggernauts and marksmen, I would say yes. I think our current combination of the really big updates like Sion mixed in with smaller but broad updates like marksmen gets us pretty good results. We did almost 20 updates in 2015 so at that pace we should cover pretty good ground in 2016 too.</p>\\n', 'title': '[INTRO] Mark “RiotScruffy” Yetter - Lead Game Designer, Champions'} 63585456148262000\n",
      "{'author': 'Riot Scruffy', 'category': 'Dev Corner', 'date': datetime.datetime(2015, 12, 10, 21, 19, 55, 814000, tzinfo=tzlocal()), 'link': 'https://boards.na.leagueoflegends.com/en/c/developer-corner/xIY31zLt-intro-mark-riotscruffy-yetter-lead-game-designer-champions', 'post_content': '<p><strong>WHO AM I?</strong></p>\\n\\n<p>Hey everyone,</p>\\n\\n<p>I&rsquo;m Mark, but you can call me RiotScruffy here. I&rsquo;m a totally obsessed video gamer (in the best possible way), and games like DOTA, WoW, LoL, and pretty much anything with the Star Wars brand have occupied the best years of my life. </p>\\n\\n<p>I&rsquo;ve been a few places around the game industry before Riot, most notably I worked at Treyarch on Black Ops 2 right before I joined. They taught me some great stuff about how to make everything feel OP, and how to really sell a fantasy. </p>\\n\\n<p>I currently own: 1 cats.</p>\\n\\n<p><strong>WHAT AM I DOING AT RIOT?</strong>\\nThere&rsquo;s kinda two sections here for me, the past and the future:</p>\\n\\n<p>The past (and present): I&rsquo;m the Lead Designer of the Champion Update team, which has worked on many of your favorites (and unfavorites I&rsquo;m sure) like Sion, Poppy, Gangplank, Fiora, Juggernauts, Marksmen updates and many more. I have a TON of history with this team, having helped build it up from the ground when I started at Riot almost 3 years ago until now. </p>\\n\\n<p>The future: I&rsquo;m going to be moving over to be Lead Designer of the Champion team. A new set of challenges and a really talented new group of people there is really exciting. Building up the next generation of new champions and hopefully surprising you all with some great new innovations is my goal. </p>\\n\\n<p><strong>WHAT AM I GOING TO TALK ABOUT?</strong>\\nChamp-Up has grown and changed so so much over these past years, and I can talk about so many things. &ldquo;Why did we start doing group updates like Juggernaut/Marksmen?&rdquo; &ldquo;How do we decide how much to preserve or redo on a champ-up like Poppy?&rdquo; </p>\\n\\n<p>Or even less specific stuff that is more related to our champion/game design philosophy like: &ldquo;How have we evolved our strategy for making interactive gameplay without overusing skillshots?&rdquo; &ldquo;How do we build up a new champion from concept to completion?&rdquo; &ldquo;How did we go about categorizing our champions into archetypes so that we could better understand them (see juggernauts)?&rdquo;</p>\\n\\n<p>I&rsquo;d also like to bridge the gap - when I can - of how our general game design practice can carry over into good character mechanic design and vice versa. It might be cool to do some topics that explore how to apply our champ design principle to other systems or even games altogether. </p>\\n\\n<p><strong>WHAT WOULD YOU LIKE TO HEAR FROM ME?</strong>\\nAnything about Champ design or Champion updates is definitely on the table for me. Get creative, I&rsquo;m open to whatever cool topics you all would like to talk about.</p>\\n', 'title': '[INTRO] Mark “RiotScruffy” Yetter - Lead Game Designer, Champions'} 63585379195814000\n",
      "{'author': 'Riot Scruffy', 'category': 'Dev Corner', 'date': datetime.datetime(2015, 10, 28, 19, 34, 17, 453000, tzinfo=tzlocal()), 'link': 'https://boards.na.leagueoflegends.com/en/c/developer-corner/whbJ5lH1-the-preseasoning-day-1-open-forum-discussion?comment=00110000000e0000', 'parent_content': '<blockquote>\\n  <p><a href=\"name=RiotScruffy,realm=NA,application-id=A7LBtoKc,discussion-id=whbJ5lH1,comment-id=00110000,timestamp=2015-10-28T18:39:33.894+0000\">{quoted}</a></p>\\n  \\n  <p>Yea this is a great question. Here\\'s the high level points for each:</p>\\n  \\n  <p>Caitlyn</p>\\n  \\n  <ul>\\n  <li>The zone control marksmen (traps are on a charge system now)</li>\\n  <li>New play feel with headshot combos (trap and E trigger a guaranteed headshot on the target)</li>\\n  </ul>\\n  \\n  <p>Miss Fortune</p>\\n  \\n  <ul>\\n  <li>The wombo combo marksmen (ult scaling way better, can crit)</li>\\n  <li>New play feel with impure shots replaced with \"love tap\" new passive that gives bonus damage when swapping targets (this works well with Q)</li>\\n  </ul>\\n  \\n  <p>Kog\\'Maw</p>\\n  \\n  <ul>\\n  <li>The true glass cannon hyper carry (tons of dmg needs protection)</li>\\n  <li>W now doubles ALL attack speed and allows him to break the attack speed cap (but ad is lowered to 60%) </li>\\n  </ul>\\n  \\n  <p>Corki</p>\\n  \\n  <ul>\\n  <li>Magic damage marksmen -> passive now does big magic damage instead of true and all spells now do magic damage</li>\\n  <li>New mechanic: Special Delivery -> every ~5m in the game corki gets a special set of bombs in his base that allow him to cast a super mega W with much bigger range and impact</li>\\n  </ul>\\n  \\n  <p>Quinn</p>\\n  \\n  <ul>\\n  <li>The map mobility/roaming marksmen </li>\\n  <li>R reworked as a utility focused spell -> 0 cooldown and gives quinn crazy out of combat speed to quickly move around the map, not used for assassination anymore</li>\\n  </ul>\\n  \\n  <p>Graves</p>\\n  \\n  <ul>\\n  <li>We finally made his shotgun a shotgun -> up close burst damage marksmen</li>\\n  <li>Basic attacks fire multiple buckshots in a cone -> more damage up close</li>\\n  <li>Q reworked to synergize better with the new basic attacks</li>\\n  </ul>\\n</blockquote>\\n\\n<p>This is all beautiful, champs are becoming more than just \\'does x damage to x player\\'. Champion specific playstyles are becoming more defined, and possibly further so with these new Keystone masteries.</p>\\n\\n<p>Oh, what a day... what a lovely day~</p>\\n\\n<p>midorii</p>\\n', 'post_content': '<p>Thanks! I\\'m glad you\\'re excited. A big learning we had from our first go on this style of update (the juggernauts) was that we wanted to aim towards \"playstyle\" like you say rather than mechanics that feel too  much like \"mini games\"</p>\\n', 'title': 'The Preseasoning: Day 1 Open Forum Discussion'} 63581657657453000\n"
     ]
    }
   ],
   "source": [
    "\n",
    "with ix.searcher() as searcher:\n",
    "    results = searcher.search(myquery, limit=10, sortedby=\"date\", reverse=True)\n",
    "    for i in results:\n",
    "        print(dict(i), i.score)"
   ]
  },
  {
   "cell_type": "code",
   "execution_count": 20,
   "metadata": {},
   "outputs": [],
   "source": [
    "myquery = QueryParser(\"title\", ix.schema, plugins=[FuzzyTermPlugin()]).parse(\"Dev blog\")"
   ]
  },
  {
   "cell_type": "code",
   "execution_count": 19,
   "metadata": {},
   "outputs": [
    {
     "data": {
      "text/plain": [
       "And([Term('post_content', 'dev'), Term('post_content', 'blog')])"
      ]
     },
     "execution_count": 19,
     "metadata": {},
     "output_type": "execute_result"
    }
   ],
   "source": [
    "myquery"
   ]
  },
  {
   "cell_type": "code",
   "execution_count": 21,
   "metadata": {},
   "outputs": [
    {
     "name": "stdout",
     "output_type": "stream",
     "text": [
      "{'author': 'Whren', 'category': 'Story, Art, & Sound', 'date': datetime.datetime(2017, 11, 20, 7, 6, 4, 567000, tzinfo=tzlocal()), 'link': 'https://boards.na.leagueoflegends.com/en/c/story-art/30aOBIOQ-riot-dev-blog-mount-targon?comment=000100010000', 'parent_content': \"<p>I would've liked to see more substantial information too, but I think it's cool that we know a little bit more about Targon now -- particularly that there's a portal at the top of the peak (whereas before it was a bit ambiguous IIRC), and how exactly that's happening. The Lunari and Solari art is absolutely awesome too, you really get a feel for the majesty of Leona's group and the nocturnal nature of the Lunari. I would've liked to see more of the Rakkor though, none of the people shown in their artwork looked anything like warriors or Pantheon.</p>\\n\\n<p>It'd be cool to get these videos and sets of artwork every time we get a new champion or VGU for each region, discovering something each time.</p>\\n\\n<p>Valor Bot</p>\\n\", 'post_content': '<p>The Rakkor image there is mainly to showcase the regular folk who live on the mountain — those who gather food, protect flocks, make the place liveable, and so on. Visually, we had to come up with a clothing aesthetic that was both ancient and yet not overly primitive. We wanted to expand on the idea of people living there looking like Spartans from 300, so at least within the images published, you’d see more of the martial warrior type (and bare skin) within the Solari, where their faith and religion encourage them to train to withstand the cold.</p>\\n', 'title': 'Riot Dev blog: Mount Targon'} 63646758364567000\n",
      "{'author': 'Whren', 'category': 'Story, Art, & Sound', 'date': datetime.datetime(2017, 11, 20, 6, 55, 24, 678000, tzinfo=tzlocal()), 'link': 'https://boards.na.leagueoflegends.com/en/c/story-art/30aOBIOQ-riot-dev-blog-mount-targon?comment=000200000000000000010000', 'parent_content': '<p>Shout out to whoever came up with the dead bodies being warped into the stone, that is brutal and so awesome.</p>\\n\\n<p>Placentas</p>\\n', 'post_content': '<p>That was me! It was an idea that came about after seeing pictures of volcanic lava that looked really corpse-like. And after we thought that it would be cool to have a spiritual/emotional testing thing instead of just rock and snow, it seemed a great way to make a climber lose their mind on the way up.</p>\\n', 'title': 'Riot Dev blog: Mount Targon'} 63646757724678000\n",
      "{'author': 'Whren', 'category': 'Story, Art, & Sound', 'date': datetime.datetime(2017, 11, 20, 6, 40, 44, 822000, tzinfo=tzlocal()), 'link': 'https://boards.na.leagueoflegends.com/en/c/story-art/30aOBIOQ-riot-dev-blog-mount-targon?comment=00020001', 'parent_content': \"<p>I'm curious as to how long a successful climb to the pinnacle of mount Targon would take.</p>\\n\\n<p>DariusDemiurge</p>\\n\", 'post_content': \"<p>This might not be very useful info, but -- fun fact! We did research on how long it takes people to climb mountains and consulted a mountain-climber who had scaled Everest multiple times (eight? I think). Our reference informed us that if one didn't stop to camp, the journey itself in raw physical distance would only be a couple days. However, most of the time spent is spent on acclimatizing, setting up camp, going up to higher elevations and then back down again once the body has gotten used to it, and then finally making the push to the top and then quickly coming down again before the lack of oxygen kills the climber. In total, that makes climbing attempts stretch out to many, many weeks just to overcome the physical limitations of the human body.</p>\\n\\n<p>Given that Targon is a fair bit bigger than Everest, we thought about the absolute amount of time it would take if the mountain didn't do its stretchy mind-bendy thing, and it would be about three weeks to a month (if we assume the presence of magic and the fact that we have characters in our world that are no mere humans).</p>\\n\", 'title': 'Riot Dev blog: Mount Targon'} 63646756844822000\n",
      "{'author': 'Jellbug', 'category': 'Story, Art, & Sound', 'date': datetime.datetime(2017, 11, 20, 1, 46, 18, 799000, tzinfo=tzlocal()), 'link': 'https://boards.na.leagueoflegends.com/en/c/story-art/30aOBIOQ-riot-dev-blog-mount-targon?comment=0002000000000000', 'parent_content': '<p>It took Atreus and Pylas months, of course this was likely due to the size of their group, the Mountain needed to kill them off to find who was worthy. So it varies from person to person, in a real life setting the difference in time taken would probably be attributed to the paths taken by different climbers, whereas in the lore its written to be the Aspects manipulating the mountain paths to test their hosts.</p>\\n\\n<p>Wrathof300</p>\\n', 'post_content': '<p>Yup, this! The mountain magically warps itself, shifting and contracting based on the unique test it creates for each climber. So some climbers might get to the top in a day (e.g. Diana), while others take months.</p>\\n', 'title': 'Riot Dev blog: Mount Targon'} 63646739178799000\n",
      "{'author': 'Riot Axes', 'category': 'Gameplay', 'date': datetime.datetime(2017, 2, 2, 0, 36, 59, 188000, tzinfo=tzlocal()), 'link': 'https://boards.na.leagueoflegends.com/en/c/gameplay-balance/3NXhzm16-riot-in-the-dev-blog-talon-may-be-struggling-so-we-are-thinking-about-buffing-items?comment=000c', 'parent_content': '<p>Geez, Riot, I wonder why we constantly have balance problems.</p>\\n\\n<p>If a champion is struggling you should look nearly exclusively at them, not jump into changing items, which affect many more champions than just the one struggling.</p>\\n\\n<p>Sraeg2013</p>\\n', 'post_content': \"<p>That dev blog is primarily about champion update, so it glosses over some of the systemic stuff. </p>\\n\\n<p>We buffed Lethality and the items because the items appeared to be generally underperforming (pro play Edge of Night use cases notwithstanding), not because Talon specifically was underperforming. This destabilizes the whole system - it makes it difficult to balance both the low cases (Talon, prior to direct buffs) and the high cases (Rengar, Kha'Zix). It was particularly impactful to Talon's balance state and thus got a callout there, but if it was just a Talon problem, we would have just worked on Talon directly.</p>\\n\", 'title': 'Riot in the dev blog \"Talon may be struggling so we are thinking about buffing items\".'} 63621592619188000\n",
      "{'author': 'Mr Piddlesworth', 'category': 'Mechs vs Minions', 'date': datetime.datetime(2016, 10, 12, 20, 15, 19, 495000, tzinfo=tzlocal()), 'link': 'https://boards.na.leagueoflegends.com/en/c/mechs-vs-minions/z8geERjP-dev-blog-2-what-goes-into-designing-a-board-game?comment=00060000', 'parent_content': \"<p>I'm getting ready to design my own board game with only a couple of textbooks as a starting point with little to no experience. Any advice, Riot?</p>\\n\\n<p>Blue Collar Bear</p>\\n\", 'post_content': \"<p>Keep it simple.\\nHave a good idea of the sort of play you want to encourage and make sure all your systems work toward that goal.\\nAdd to it piece by piece, rather than trying to add a lot of complexity all at once.\\nPlaytest as soon as you're able and don't stop playtesting.</p>\\n\", 'title': 'Dev Blog 2:  WHAT GOES INTO DESIGNING A BOARD GAME?'} 63611900119495000\n",
      "{'author': 'Kades', 'category': 'Mechs vs Minions', 'date': datetime.datetime(2016, 10, 11, 23, 31, 56, 608000, tzinfo=tzlocal()), 'link': 'https://boards.na.leagueoflegends.com/en/c/mechs-vs-minions/z8geERjP-dev-blog-2-what-goes-into-designing-a-board-game', 'post_content': '<p>Hey folks,</p>\\n\\n<p>Making a board game is something many of us have always wanted to do, and we feel very lucky&mdash;and sincerely humbled&mdash;to be able to work in this space at all. We already have a lot of love for tabletop game makers, and through this process we&rsquo;ve found a whole new respect for this craft and industry. </p>\\n\\n<p><em>*THE EARLY DAYS\\n*</em>\\nLike pretty much every tabletop group ever, a couple of us had always thrown around the idea of making a board game. Around three years ago, we decided to really try our hand at it. The smart thing to do would have been to reach out to an established tabletop company that we know does this well, but we really wanted to take a full swing ourselves to see if we could come up with a game that made sense for League players. We&rsquo;re very fortunate to have a lot of freedom to pivot when necessary, which is a rare luxury that we wanted to take advantage of. Going with a company that has done this before would have saved us a bunch of headaches along the way, but we wouldn&rsquo;t have been able to keep asking &ldquo;why can&rsquo;t a board game do this?&rdquo; at every step, and I believe (and hope!) that the game is better off for it. </p>\\n\\n<p><em>*EUREKA!\\n*</em>\\nRiot happened to have an accomplished board game designer (Stone Librande), who frequently came up with new ideas for games. One of the ones we looked at had a compelling programming mechanic that we wanted to pursue. A lot of the game has obviously changed since that point, but that kernel was the center that the rest of the game was built around. </p>\\n\\n<p>The next step was to match a League theme to those mechanics. The story of MvM is within the League universe, so we had a lot of freedom to play with which champions would be involved and what we could put them through. With programming, it made sense to look at robots, and an early iteration featured Blitzcrank and Orianna. But the mechs are difficult to control, and they run into a lot of funny situations that way, and it didn&rsquo;t feel right that Ori or Blitz couldn&rsquo;t control themselves well. Then we thought of Rumble, who is easier to see slipping around on oil slicks, and we started to build the thematic aspects of the game from there. We wanted more yordles in the game but wanted to keep the mechs, so we had Rumble open up a mech-piloting school, and his personality helped us shape a story that we could tie the other four into. Once we had that theme, building the game felt much more organic; the theme and mechanics started to inform each other in ways that felt right, and progress followed.</p>\\n\\n<p><em>*THE MINIONS GO MARCHING ONE BY ONE\\n*</em>\\nWe spent the year working on it, figuring out artwork and models and any other kind of forward progress we could find, and landed on something that I thought felt pretty good. I&rsquo;m a huge board game nerd, so I wanted to reach out to some of the reviewers and communities that I love: BoardGameGeek, Geek &amp; Sundry, Shut Up &amp; Sit Down, The Dice Tower, the list goes on. We ended up flying out Quintin Smith from Shut Up &amp; Sit Down and Tom Vasel from Dice Tower, and they were awesome about giving us feedback. I remember Quintin telling us that he enjoyed the game but didn&rsquo;t feel like he&rsquo;d play it again, and he recommended doing a campaign with modular boards since that would keep him engaged. This change would represent a lot more work, since we would be taking that core structure and making/balancing around ten more missions around it, but deep down we all knew he was right. We went back to the drawing board and completely pivoted. We brought in another designer (Rick  Ernst) to help work on crafting scenarios as well as damage and boss decks, and we pressed onward.</p>\\n\\n<p><em>*TESTING IN PROGRESS!\\n*</em>\\nPlaytesting was a huge part of the process from there. Luckily, Riot is a place filled with core gamers, so we had lots of opportunities to do playtests with different types of gamers from the office. And we needed to do a lot of playtesting, especially for balancing the AI, since in co-op you really want the players to have to gamble on how to win, and get through by the skin of their teeth. The real solve for that, other than getting to work with great designers (which I&rsquo;ve been lucky to have), is just playtesting over and over again, and then over and over again (and again), and then bringing in brand new eyes and seeing if your experience sticks. Then someone will say &ldquo;we haven&rsquo;t lost here in a long time, it should be a little harder&rdquo; and we&rsquo;ll make a tweak. It&rsquo;s not sexy&mdash;just constant iterations over a long period of time&mdash;but it&rsquo;s happy work, because it&rsquo;s out of love for the game that you&rsquo;re making and the players you&rsquo;re making it for. </p>\\n\\n<p>One landmine we were particularly afraid of was quarterbacking: when one player basically solves the game, and that person ends up puppeting the entire group. It&rsquo;s a scary risk for a complex co-op game, and we actively fought against it. We actually had a version that went too far, and it no longer felt like players could collaborate at all, and it wasn&rsquo;t fun. We eventually found a balance we were happy with, with each player becoming an expert on their own mech&rsquo;s command line. We knew things were going better when in-game conversations started focusing less on tactics and more on objectives: a player might see a minion squeaking through the gate and ask the team: &ldquo;can you get there?&rdquo; or &ldquo;who can handle this?&rdquo; instead of focusing on how that other player should build out their mech. It felt like a much healthier place for the game to land.</p>\\n\\n<p><em>*WHO YOU CALLIN&rsquo; LITTLE?\\n*</em>\\nThe majority of this work was done by a very small team, starting with three or four people and then later having five to seven people. We&rsquo;ve come a long way, and I&rsquo;m super proud of this team for working out of love for what we&rsquo;re doing. I&rsquo;ve had the opportunity to play MvM a couple thousand times at this point and I still love playing it; I&rsquo;m still proud of the gameplay and the work that was done. I&rsquo;m also very happy to have worked with some of the external partners that helped us in the manufacturing of the game, which I plan to talk about in my next post!</p>\\n\\n<p>Thanks,</p>\\n\\n<p>-Chris &#039;Kades&#039; Cantrell</p>\\n', 'title': 'Dev Blog 2:  WHAT GOES INTO DESIGNING A BOARD GAME?'} 63611825516608000\n",
      "{'author': 'Kades', 'category': 'Mechs vs Minions', 'date': datetime.datetime(2016, 9, 27, 18, 24, 56, 54000, tzinfo=tzlocal()), 'link': 'https://boards.na.leagueoflegends.com/en/c/mechs-vs-minions/h3g70teL-dev-blog-1-what-kind-of-board-game-is-mechs-vs-minions', 'post_content': '<p>Hey everyone, </p>\\n\\n<p>Chris &ldquo;Kades&rdquo; Cantrell here, lead for Mechs vs. Minions. It&rsquo;s been a long time in the making, so we&rsquo;re really excited (and a little nervous) to be talking about it with all of you! We&rsquo;re going to be doing a few posts about the process of making the game, but wanted to start just by talking broadly about the gameplay in MvM and some of the major decisions that went into it. First up: the decision to make the game co-op.</p>\\n\\n<p><em>*WATCH MY TEAM WORK\\n*</em>\\nIt may come as a surprise that the game isn&rsquo;t PvP. We definitely tried out PvP iterations of the game, but in the end, the co-op version of the game&hellip; well, it was just a lot more fun. We don&rsquo;t have the luxury of online matchmaking, but wanted the replayability and depth that a good, online PvP experience would be able to provide, and we felt closer to those goals when the game was fully co-op. We also wanted the game to be fun for the experienced player as well as the brand new player, even if they&rsquo;re in the same game. We went through a LOT of testing to get as close to that mark as we could, and we plan to spend the next post talking about those design&mdash;and testing&mdash;challenges. The design choices became a lot easier to make once we found a theme to match to these mechanics&hellip; </p>\\n\\n<p><em>*MECHAYORDLES!\\n*</em>\\nIn MvM, the players act as one of four yordles and &ldquo;program&rdquo; their mech with different ability cards. Each turn, the player can add one of these abilities to their command line, and soon the mech has a series of commands that it executes every turn. The idea is to build out a minion-stomping machine that you masterfully pilot through the mission&mdash;but it&rsquo;s easy to run into technical difficulties, especially once you start taking damage. In our games, we kept driving into walls, or bumping into teammates, or wandering the wrong way altogether. We asked ourselves: what kind of champs would accidentally walk into lava? There was no other option: it had to be yordles.</p>\\n\\n<p>With a game set in the League universe, we took the opportunity to tell a story with familiar characters and have them go on a journey. MvM uses a modular board that changes as the story progresses and includes lots of dialogue (both written and recorded!) to deepen the story and give the game that distinct yordleiciousness that we wanted.</p>\\n\\n<p><em>*ONE (MECHANIZED) STEP AT A TIME\\n*</em>\\nWe&rsquo;re super excited for the launch of the game. We earnestly hope that everyone who plays MvM enjoys playing it, but we also know that it won&rsquo;t be for everyone. Every choice is a trade-off, but we prized fun gameplay above all else. Even the most carefully painted miniatures can&rsquo;t make up for a snorefest of a game, so we erred on the side of gameplay depth when in doubt, and we leaned on the full campaign to introduce that complexity over time. </p>\\n\\n<p>We really wanted to make a game for League players as well as core tabletop gamers, and choosing not to license the game out to another developer meant developing MvM entirely in-house. Once that decision was made, we were fated to learn a lot of lessons&mdash;the hard way&mdash;about what it takes to make a board game. We&rsquo;ll be talking about that in the next post!</p>\\n\\n<p>-Kades</p>\\n', 'title': \"Dev Blog 1:   What kind of board game is 'Mechs vs Minions'?\"} 63610597496054000\n",
      "{'author': 'Kades', 'category': 'Mechs vs Minions', 'date': datetime.datetime(2016, 9, 27, 18, 24, 56, 54000, tzinfo=tzlocal()), 'link': 'https://boards.na.leagueoflegends.com/en/c/mechs-vs-minions/h3g70teL-dev-blog-1-what-kind-of-board-game-is-mechs-vs-minions', 'post_content': '<p>Hey everyone, </p>\\n\\n<p>Chris &ldquo;Kades&rdquo; Cantrell here, lead for Mechs vs. Minions. It&rsquo;s been a long time in the making, so we&rsquo;re really excited (and a little nervous) to be talking about it with all of you! We&rsquo;re going to be doing a few posts about the process of making the game, but wanted to start just by talking broadly about the gameplay in MvM and some of the major decisions that went into it. First up: the decision to make the game co-op.</p>\\n\\n<p><em>*WATCH MY TEAM WORK\\n*</em>\\nIt may come as a surprise that the game isn&rsquo;t PvP. We definitely tried out PvP iterations of the game, but in the end, the co-op version of the game&hellip; well, it was just a lot more fun. We don&rsquo;t have the luxury of online matchmaking, but wanted the replayability and depth that a good, online PvP experience would be able to provide, and we felt closer to those goals when the game was fully co-op. We also wanted the game to be fun for the experienced player as well as the brand new player, even if they&rsquo;re in the same game. We went through a LOT of testing to get as close to that mark as we could, and we plan to spend the next post talking about those design&mdash;and testing&mdash;challenges. The design choices became a lot easier to make once we found a theme to match to these mechanics&hellip; </p>\\n\\n<p><em>*MECHAYORDLES!\\n*</em>\\nIn MvM, the players act as one of four yordles and &ldquo;program&rdquo; their mech with different ability cards. Each turn, the player can add one of these abilities to their command line, and soon the mech has a series of commands that it executes every turn. The idea is to build out a minion-stomping machine that you masterfully pilot through the mission&mdash;but it&rsquo;s easy to run into technical difficulties, especially once you start taking damage. In our games, we kept driving into walls, or bumping into teammates, or wandering the wrong way altogether. We asked ourselves: what kind of champs would accidentally walk into lava? There was no other option: it had to be yordles.</p>\\n\\n<p>With a game set in the League universe, we took the opportunity to tell a story with familiar characters and have them go on a journey. MvM uses a modular board that changes as the story progresses and includes lots of dialogue (both written and recorded!) to deepen the story and give the game that distinct yordleiciousness that we wanted.</p>\\n\\n<p><em>*ONE (MECHANIZED) STEP AT A TIME\\n*</em>\\nWe&rsquo;re super excited for the launch of the game. We earnestly hope that everyone who plays MvM enjoys playing it, but we also know that it won&rsquo;t be for everyone. Every choice is a trade-off, but we prized fun gameplay above all else. Even the most carefully painted miniatures can&rsquo;t make up for a snorefest of a game, so we erred on the side of gameplay depth when in doubt, and we leaned on the full campaign to introduce that complexity over time. </p>\\n\\n<p>We really wanted to make a game for League players as well as core tabletop gamers, and choosing not to license the game out to another developer meant developing MvM entirely in-house. Once that decision was made, we were fated to learn a lot of lessons&mdash;the hard way&mdash;about what it takes to make a board game. We&rsquo;ll be talking about that in the next post!</p>\\n\\n<p>-Kades</p>\\n', 'title': \"Dev Blog 1:   What kind of board game is 'Mechs vs Minions'?\"} 63610597496054000\n",
      "{'author': 'Reav3', 'category': 'Story, Art, & Sound', 'date': datetime.datetime(2016, 8, 29, 17, 44, 42, 635000, tzinfo=tzlocal()), 'link': 'https://boards.na.leagueoflegends.com/en/c/story-art/9czk9NzV-reav3-could-you-give-us-top-ten-of-a-requested-for-a-vgu-list-in-incoming-dev-blog?comment=000500000000', 'parent_content': '<blockquote>\\n  <p><a href=\"name=Reav3,realm=NA,application-id=6kFXY1kR,discussion-id=9czk9NzV,comment-id=0005,timestamp=2016-08-29T17:26:56.306+0000\">{quoted}</a></p>\\n  \\n  <p>A bit too late on that as the DevBLog is currently being localized. I likely wouldn&#x27;t add that list anyway even if it wasn&#x27;t though. </p>\\n  \\n  <p>The reason being that the list is constantly changing and I&#x27;m sot sure how useful it would be to post what the list is at any given moment in time. The Devblog would likely be referenced in the future, much like you have referenced my old post as the definitive list, even though it isn&#x27;t.</p>\\n  \\n  <p>For example, the list currently looks like this today:</p>\\n  \\n  <ol>\\n  <li>Yorick</li>\\n  <li>Urgot</li>\\n  <li>Nunu</li>\\n  <li>Warwick</li>\\n  <li>Galio</li>\\n  <li>Singed</li>\\n  <li>Evelynn</li>\\n  </ol>\\n  \\n  <p>It will likely look very different a month from now. This is why we generally look at trends overtime rather then what the list is at one particular point in time. When talking about updates we usually talk about the top 10-15 that appear in the top #10 a lot.</p>\\n</blockquote>\\n\\n<p>What are the top 5 trends for updates currently? Also why are Singed, Yorick, and Warwick included when they\\'ve either been updated or are being updated (Singed had a Visual Update in 2014 and is niche)?</p>\\n\\n<p>Solanar</p>\\n', 'post_content': '<p>This is just a list of highest requested by players from our survey data.</p>\\n', 'title': 'Reav3 Could you give us top ten of a requested for a VGU list in incoming Dev Blog?'} 63608089482635000\n"
     ]
    }
   ],
   "source": [
    "\n",
    "with ix.searcher() as searcher:\n",
    "    results = searcher.search(myquery, limit=10, sortedby=\"date\", reverse=True)\n",
    "    for i in results:\n",
    "        print(dict(i), i.score)"
   ]
  },
  {
   "cell_type": "code",
   "execution_count": 22,
   "metadata": {},
   "outputs": [],
   "source": [
    "from whoosh.qparser import MultifieldParser"
   ]
  },
  {
   "cell_type": "code",
   "execution_count": 23,
   "metadata": {},
   "outputs": [],
   "source": [
    "myquery = MultifieldParser([\"title\",\"post_content\"], ix.schema, plugins=[FuzzyTermPlugin()]).parse(\"Dev blog\")"
   ]
  },
  {
   "cell_type": "code",
   "execution_count": 24,
   "metadata": {},
   "outputs": [
    {
     "data": {
      "text/plain": [
       "And([Or([Term('title', 'dev'), Term('post_content', 'dev')]), Or([Term('title', 'blog'), Term('post_content', 'blog')])])"
      ]
     },
     "execution_count": 24,
     "metadata": {},
     "output_type": "execute_result"
    }
   ],
   "source": [
    "myquery"
   ]
  },
  {
   "cell_type": "code",
   "execution_count": 27,
   "metadata": {},
   "outputs": [
    {
     "ename": "NameError",
     "evalue": "name 'myquer' is not defined",
     "output_type": "error",
     "traceback": [
      "\u001b[0;31m---------------------------------------------------------------------------\u001b[0m",
      "\u001b[0;31mNameError\u001b[0m                                 Traceback (most recent call last)",
      "\u001b[0;32m<ipython-input-27-579249db53a3>\u001b[0m in \u001b[0;36m<module>\u001b[0;34m\u001b[0m\n\u001b[0;32m----> 1\u001b[0;31m \u001b[0mmyquer\u001b[0m \u001b[0;34m=\u001b[0m \u001b[0mmyquer\u001b[0m  \u001b[0;34m&\u001b[0m \u001b[0mTerm\u001b[0m\u001b[0;34m(\u001b[0m\u001b[0;34m'category'\u001b[0m\u001b[0;34m,\u001b[0m\u001b[0;34m\"Dev Corner\"\u001b[0m\u001b[0;34m)\u001b[0m\u001b[0;34m\u001b[0m\u001b[0;34m\u001b[0m\u001b[0m\n\u001b[0m",
      "\u001b[0;31mNameError\u001b[0m: name 'myquer' is not defined"
     ]
    }
   ],
   "source": [
    "myquer = myquer  & Term('category',\"Dev Corner\")"
   ]
  },
  {
   "cell_type": "code",
   "execution_count": 28,
   "metadata": {},
   "outputs": [],
   "source": [
    "c = \"Champions & Gameplay\""
   ]
  },
  {
   "cell_type": "code",
   "execution_count": 31,
   "metadata": {},
   "outputs": [
    {
     "name": "stdout",
     "output_type": "stream",
     "text": [
      "{'author': 'Riot Morgageddon', 'category': 'Live Incident Breakdown', 'date': datetime.datetime(2020, 3, 9, 6, 36, 33, 671000, tzinfo=tzlocal()), 'link': 'https://boards.na.leagueoflegends.com/en/c/live-incident-breakdown-na/at9hE8zH-so-long-and-thanks-for-all-the-fish?comment=00000000', 'parent_content': '<p><strong>42</strong>, over and out.</p>\\n\\n<p>Lexually</p>\\n', 'post_content': '<blockquote>\\n  <p><a href=\"name=Lexually,realm=NA,application-id=6WpmgL9O,discussion-id=at9hE8zH,comment-id=0000,timestamp=2020-03-09T05:27:47.980+0000\">{quoted}</a></p>\\n  \\n  <p><strong>42</strong>, over and out.</p>\\n</blockquote>\\n\\n<p><strong>Roger Roger</strong></p>\\n', 'title': 'So long and thanks for all the fish!'} 63719332593671000\n",
      "{'author': 'Riot Morgageddon', 'category': 'Live Incident Breakdown', 'date': datetime.datetime(2020, 3, 9, 6, 35, 55, 775000, tzinfo=tzlocal()), 'link': 'https://boards.na.leagueoflegends.com/en/c/live-incident-breakdown-na/at9hE8zH-so-long-and-thanks-for-all-the-fish?comment=00010000', 'parent_content': '<p>{{sticker:zombie-nunu-tears}} Thanks for posting Riot Morgageddon {{sticker:zombie-nunu-tears}}</p>\\n\\n<p>Aeszarck</p>\\n', 'post_content': '<blockquote>\\n  <p><a href=\"name=Aeszarck,realm=NA,application-id=6WpmgL9O,discussion-id=at9hE8zH,comment-id=0001,timestamp=2020-03-09T05:47:59.536+0000\">{quoted}</a></p>\\n  \\n  <p>{{sticker:zombie-nunu-tears}} Thanks for posting Riot Morgageddon {{sticker:zombie-nunu-tears}}</p>\\n</blockquote>\\n\\n<p>Thanks for being here with us :)</p>\\n', 'title': 'So long and thanks for all the fish!'} 63719332555775000\n",
      "{'author': 'Riot Morgageddon', 'category': 'Live Incident Breakdown', 'date': datetime.datetime(2020, 3, 9, 6, 35, 27, 361000, tzinfo=tzlocal()), 'link': 'https://boards.na.leagueoflegends.com/en/c/live-incident-breakdown-na/at9hE8zH-so-long-and-thanks-for-all-the-fish?comment=00020000', 'parent_content': '<p>Take care! &lt;3</p>\\n\\n<p>Helpmexdplease</p>\\n', 'post_content': '<blockquote>\\n  <p><a href=\"name=Helpmexdplease,realm=NA,application-id=6WpmgL9O,discussion-id=at9hE8zH,comment-id=0002,timestamp=2020-03-09T06:08:51.422+0000\">{quoted}</a></p>\\n  \\n  <p>Take care! &lt;3</p>\\n</blockquote>\\n\\n<p>No YOU take care!</p>\\n', 'title': 'So long and thanks for all the fish!'} 63719332527361000\n",
      "{'author': 'Riot Morgageddon', 'category': 'Live Incident Breakdown', 'date': datetime.datetime(2020, 3, 9, 6, 34, 59, 71000, tzinfo=tzlocal()), 'link': 'https://boards.na.leagueoflegends.com/en/c/live-incident-breakdown-na/at9hE8zH-so-long-and-thanks-for-all-the-fish?comment=00040000', 'parent_content': '<p>Have a great one. Good Luck both in your games and out of your games.</p>\\n\\n<p>DaenrysTargaryen</p>\\n', 'post_content': '<blockquote>\\n  <p><a href=\"name=DaenrysTargaryen,realm=NA,application-id=6WpmgL9O,discussion-id=at9hE8zH,comment-id=0004,timestamp=2020-03-09T06:17:08.005+0000\">{quoted}</a></p>\\n  \\n  <p>Have a great one. Good Luck both in your games and out of your games.</p>\\n</blockquote>\\n\\n<p>You too, and if only S8 wasn\\'t crapola on a hot plate of bad.</p>\\n', 'title': 'So long and thanks for all the fish!'} 63719332499071000\n",
      "{'author': 'Riot Morgageddon', 'category': 'Live Incident Breakdown', 'date': datetime.datetime(2020, 3, 9, 6, 34, 10, 931000, tzinfo=tzlocal()), 'link': 'https://boards.na.leagueoflegends.com/en/c/live-incident-breakdown-na/at9hE8zH-so-long-and-thanks-for-all-the-fish?comment=00030000', 'parent_content': '<p>Later Morg, hope to see you on the Rift here and there!</p>\\n\\n<p>Deep Terror Nami</p>\\n', 'post_content': '<blockquote>\\n  <p><a href=\"name=Deep Terror Nami,realm=NA,application-id=6WpmgL9O,discussion-id=at9hE8zH,comment-id=0003,timestamp=2020-03-09T06:14:47.670+0000\">{quoted}</a></p>\\n  \\n  <p>Later Morg, hope to see you on the Rift here and there!</p>\\n</blockquote>\\n\\n<p>I ain\\'t goin nowhere, you\\'ll still see me on ARAMs and are welcome to invite me!</p>\\n', 'title': 'So long and thanks for all the fish!'} 63719332450931000\n",
      "{'author': 'Riot Morgageddon', 'category': 'Live Incident Breakdown', 'date': datetime.datetime(2020, 3, 9, 5, 22, 11, 283000, tzinfo=tzlocal()), 'link': 'https://boards.na.leagueoflegends.com/en/c/live-incident-breakdown-na/at9hE8zH-so-long-and-thanks-for-all-the-fish', 'post_content': \"<p>Thanks for reading all the GBL posts from me and our small team!</p>\\n\\n<p>Been on Boards since before I left college, so it's been a long time. I shall miss most of you!</p>\\n\", 'title': 'So long and thanks for all the fish!'} 63719328131283000\n",
      "{'author': 'Riot Morgageddon', 'category': 'Live Incident Breakdown', 'date': datetime.datetime(2020, 3, 5, 20, 22, 15, 361000, tzinfo=tzlocal()), 'link': 'https://boards.na.leagueoflegends.com/en/c/live-incident-breakdown-na/B8mqYWVV-the-good-the-bad-and-the-league-24-224?comment=00010000000000000000', 'parent_content': '<p>Hey Morgageddon, does the introduction of the plugins and ember apps happen if I have the option selected to close the client during the game?</p>\\n\\n<p>If so, what should I do to clear the plugins and the ember apps? </p>\\n\\n<p>My computer is a potatoe, it takes me 38 seconds to bootstrap.</p>\\n\\n<p>Kei143</p>\\n', 'post_content': '<blockquote>\\n  <p><a href=\"name=Kei143,realm=NA,application-id=6WpmgL9O,discussion-id=B8mqYWVV,comment-id=0001000000000000,timestamp=2020-03-03T02:04:59.891+0000\">{quoted}</a></p>\\n  \\n  <p>Hey Morgageddon, does the introduction of the plugins and ember apps happen if I have the option selected to close the client during the game?</p>\\n  \\n  <p>If so, what should I do to clear the plugins and the ember apps? </p>\\n  \\n  <p>My computer is a potatoe, it takes me 38 seconds to bootstrap.</p>\\n</blockquote>\\n\\n<p>I actually don\\'t know, I think that the plugins and apps are loaded up upon the start of the client process, and if you close it during the game, it should kill those processes as well (as many as it can).</p>\\n', 'title': 'The Good, The Bad, and the League: 2/4 - 2/24'} 63719036535361000\n",
      "{'author': 'Riot Morgageddon', 'category': 'Live Incident Breakdown', 'date': datetime.datetime(2020, 3, 2, 20, 10, 57, 911000, tzinfo=tzlocal()), 'link': 'https://boards.na.leagueoflegends.com/en/c/live-incident-breakdown-na/B8mqYWVV-the-good-the-bad-and-the-league-24-224?comment=000100000000', 'parent_content': '<blockquote>\\n  <p><a href=\"name=Thorn Fierce Red,realm=NA,application-id=6WpmgL9O,discussion-id=B8mqYWVV,comment-id=0001,timestamp=2020-02-29T01:53:35.491+0000\">{quoted}</a></p>\\n  \\n  <p>Client dint want to open....</p>\\n</blockquote>\\n\\n<p>maybe the client still open even thou u have close the client. try go to task manager and end task league client and open it again</p>\\n\\n<p>LightningVA</p>\\n', 'post_content': '<blockquote>\\n  <p><a href=\"name=LightningVA,realm=NA,application-id=6WpmgL9O,discussion-id=B8mqYWVV,comment-id=00010000,timestamp=2020-03-02T06:32:18.090+0000\">{quoted}</a></p>\\n  \\n  <p>maybe the client still open even thou u have close the client. try go to task manager and end task league client and open it again</p>\\n</blockquote>\\n\\n<p>We\\'re also doing some client stuff! </p>\\n\\n<p>https://na.leagueoflegends.com/en-gb/news/dev/introducing-the-client-cleanup-campaign/</p>\\n', 'title': 'The Good, The Bad, and the League: 2/4 - 2/24'} 63718776657911000\n",
      "{'author': 'Riot Morgageddon', 'category': 'Live Incident Breakdown', 'date': datetime.datetime(2020, 2, 25, 22, 51, 54, 750000, tzinfo=tzlocal()), 'link': 'https://boards.na.leagueoflegends.com/en/c/live-incident-breakdown-na/B8mqYWVV-the-good-the-bad-and-the-league-24-224', 'post_content': '<p>_Your semi-weekly dose of server problem-os, NA League news, and other! _</p>\\n\\n<p>2020 is in full swing. LoR entered open beta, Sett is STILL punching an awful lot of things, Your Shop is active and C9 is undefeated...so far. Clash happened this last weekend</p>\\n\\n<p><strong>Follow-Ups:</strong></p>\\n\\n<ul>\\n<li><strong>Mac voice still not working properly</strong> It’s being worked on! There’s improvements being done to Riot Voice and it should be fixed in the nearish future (not a Soon™ type scenario). </li>\\n</ul>\\n\\n<p><strong>Ongoing</strong></p>\\n\\n<ul>\\n<li><strong>None</strong></li>\\n</ul>\\n\\n<p><em>*Server Stuff: *</em></p>\\n\\n<ul>\\n<li><p><strong>MFA host has higher error rate than acceptable(2/7, ~4 hours)</strong> Automated alerting reports that error rates for Multi-Factor Auth (MFA) are above acceptable rates. NOC notifies engineers, who investigate and fiddle with config changes. Then, additional hardware is scaled up to handle extra load, and the problem is resolved. An additional code change is scheduled to permanently fix the underlying problem. </p></li>\\n<li><p><strong>Elevated error rate causing login issues(2/7, ~30 minutes)</strong> NOC is notified that error rates are reaching unacceptable levels. NOC techs cycle the boxes running the programs, which solves the problem. </p></li>\\n<li><p><strong>Player in Game (PIG) loss due to unknown reasons (2/10, ~8 minutes)</strong> Automated alerting notifies the NOC that PIG dropped mysteriously. PIG recovers shortly, but investigations into why that happened find no root cause. </p></li>\\n<li><p><strong>NA players report inability to patch Riot Client (2/11, ~10 hours)</strong> NOC is notified by PS that they’ve gotten a large volume of support requests due to an inability to patch the Riot Client. Investigation points to an issue with timeouts. Engineers point software towards a different box, which fixes the routing issues causing the problem. </p></li>\\n<li><p><strong>Issues with game starts (2/14, ~20 minutes)</strong> Automated alerting notifies the NOC that game starts are impacted. Before an investigation can be spun up, game starts resume normal metrics, and further watching doesn’t show any additional problems.</p></li>\\n<li><p><strong>Signups API failure(2/21, ~6 minutes)</strong> Automated alerting notifies the NOC that signups have reported 0 signups for 5 minutes. NOC tech takes a look and notices that one of the backend connection nodes isn’t transmitting data. Routing around the impacted node fixes the problem while the node is rebooted. </p></li>\\n<li><p><strong>CPU Usage too high - Mitigation steps (2/22, ~89 minutes)</strong> CPU usage hitting warning levels due to Clash. In response, practice games are set to 10 player minimums and then the practice tool is disabled too. ARAM queue is throttled, and then all steps are undone as soon as the CPU levels lower to acceptable ranges. </p></li>\\n<li><p><strong>CPU Usage too high - Mitigation steps (2/23, ~95 minutes)</strong> CPU usage hitting warning levels due to Clash. In response, practice games are set to 10 player minimums and then the practice tool is disabled too. Co-op vs. AI games are throttled, and then all steps are undone as soon as the CPU levels lower to acceptable ranges. </p></li>\\n<li><p><strong>Practice Games Finishing in Error (2/24, ~11 hours)</strong> Automated alerting notifies the NOC that games are ending with unacceptable error rates. Investigation starts, and engineers notice only practice games are ending with errors. Further checks notice that unverified code around clash trophies in practice tool seems to be the culprit. A hotfix goes out that fixes the issue. </p></li>\\n</ul>\\n\\n<p><em>*Game Stuff: *</em></p>\\n\\n<ul>\\n<li><strong>Network config for perks service accidentally deletes Runes (2/4, ~38 minutes)</strong> Network engineer changes the config for perks, which accidently disables rune selection for all Riot Shards. Once discovered, the network engineer undoes the network configs for perks that caused it.</li>\\n</ul>\\n\\n<p><em>Morgageddon</em></p>\\n', 'title': 'The Good, The Bad, and the League: 2/4 - 2/24'} 63718267914750000\n",
      "{'author': 'Riot Morgageddon', 'category': 'Live Incident Breakdown', 'date': datetime.datetime(2020, 2, 6, 20, 6, 9, 450000, tzinfo=tzlocal()), 'link': 'https://boards.na.leagueoflegends.com/en/c/live-incident-breakdown-na/ANJRyy9A-the-good-the-bad-and-the-league-122-23?comment=000600000000', 'parent_content': '<blockquote>\\n  <p><a href=\"name=mTvSiDDarnell,realm=NA,application-id=6WpmgL9O,discussion-id=ANJRyy9A,comment-id=0006,timestamp=2020-02-06T04:39:30.519+0000\">{quoted}</a></p>\\n  \\n  <p>Hello Riot Morgageddon.\\n  I wanted to know if there was an update regarding to transfer issues that we\\'ve been having for the past few weeks. You mentioned in your previous posts that it should\\'ve been up when patch 10.3 was deployed but sadly the problem still persists. I and many of my friend would like to know if there are any updates to be expected or an approximation of when it may be up and running. Thanks!</p>\\n</blockquote>\\n\\n<p>@Riot Morgageddon please, give us a proper answer, there has to be a dev out there that knows how to do \"logging\".</p>\\n\\n<p>RézZZ</p>\\n', 'post_content': '<blockquote>\\n  <p><a href=\"name=RézZZ,realm=EUW,application-id=6WpmgL9O,discussion-id=ANJRyy9A,comment-id=00060000,timestamp=2020-02-06T09:34:48.235+0000\">{quoted}</a></p>\\n  \\n  <p>@Riot Morgageddon please, give us a proper answer, there has to be a dev out there that knows how to do \"logging\".</p>\\n</blockquote>\\n\\n<p>Unless I\\'m mistaken, server transfers are currently up no?</p>\\n\\n<p>They weren\\'t going to be enabled as soon as 10.3 was rolled out; they had to verify a few things before flipping a switch...</p>\\n', 'title': 'The Good, The Bad, and the League: 1/22 - 2/3'} 63716616369450000\n"
     ]
    }
   ],
   "source": [
    "myquery = Term('author',\"Riot Morgageddon\")\n",
    "with ix.searcher() as searcher:\n",
    "    results = searcher.search(myquery, limit=10, sortedby=\"date\", reverse=True)\n",
    "    for i in results:\n",
    "        print(dict(i), i.score)"
   ]
  },
  {
   "cell_type": "code",
   "execution_count": null,
   "metadata": {},
   "outputs": [],
   "source": []
  }
 ],
 "metadata": {
  "kernelspec": {
   "display_name": "Python 3",
   "language": "python",
   "name": "python3"
  },
  "language_info": {
   "codemirror_mode": {
    "name": "ipython",
    "version": 3
   },
   "file_extension": ".py",
   "mimetype": "text/x-python",
   "name": "python",
   "nbconvert_exporter": "python",
   "pygments_lexer": "ipython3",
   "version": "3.6.8"
  }
 },
 "nbformat": 4,
 "nbformat_minor": 2
}
