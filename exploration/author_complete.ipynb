{
 "cells": [
  {
   "cell_type": "code",
   "execution_count": 1,
   "metadata": {},
   "outputs": [],
   "source": [
    "import json\n",
    "with open(\"all_authors_stats.json\",\"r\") as f:\n",
    "    all_authors_stats = json.load(f)"
   ]
  },
  {
   "cell_type": "code",
   "execution_count": 3,
   "metadata": {},
   "outputs": [],
   "source": [
    "from fuzzywuzzy import process"
   ]
  },
  {
   "cell_type": "code",
   "execution_count": 14,
   "metadata": {},
   "outputs": [
    {
     "data": {
      "text/plain": [
       "[('Zenon', 90),\n",
       " ('ZenonTheStoic', 79),\n",
       " ('ZenonTheStoic2', 79),\n",
       " ('Izeo', 68),\n",
       " ('zerocontext', 63),\n",
       " ('Pente', 62),\n",
       " ('Veonneth', 62),\n",
       " ('Riot DeNocte', 60),\n",
       " ('Zirene', 57),\n",
       " ('Aeon Eternal', 56)]"
      ]
     },
     "execution_count": 14,
     "metadata": {},
     "output_type": "execute_result"
    }
   ],
   "source": [
    "process.extract(\"ZenonTeh\", [i[\"name\"] for i in all_authors_stats], limit=10)"
   ]
  },
  {
   "cell_type": "code",
   "execution_count": 6,
   "metadata": {},
   "outputs": [],
   "source": [
    "def author_name_suggestion(name):\n",
    "    list_autocomplete = [all_indexed_authors_stats[i] for i in all_indexed_authors_stats.keys() if i.lower().startswith(name)]\n",
    "    list_suggestions = [all_indexed_authors_stats[i[0]] for i in process.extract(name, authors_name, limit=10-len(list_autocomplete))]\n",
    "    return list_autocomplete, list_suggestions"
   ]
  },
  {
   "cell_type": "code",
   "execution_count": 23,
   "metadata": {},
   "outputs": [],
   "source": [
    "\n",
    "with open(\"all_authors_stats.json\",\"r\") as f:\n",
    "    all_authors_stats = json.load(f)\n",
    "    all_indexed_authors_stats = {i[\"name\"]:i for i in all_authors_stats}\n",
    "    authors_name = [i[\"name\"] for i in all_authors_stats]\n",
    "    \n",
    "def author_name_suggestion(name):\n",
    "    list_autocomplete = [all_indexed_authors_stats[i] for i in all_indexed_authors_stats.keys() if i.lower().startswith(name.lower())]\n",
    "    list_suggestions = [all_indexed_authors_stats[i[0]] for i in process.extract(name, authors_name, limit=10-len(list_autocomplete)) if i[1] > 70 and not all_indexed_authors_stats[i[0]] in list_autocomplete]\n",
    "    return list_autocomplete, list_suggestions\n"
   ]
  },
  {
   "cell_type": "code",
   "execution_count": 24,
   "metadata": {},
   "outputs": [
    {
     "data": {
      "text/plain": [
       "([{'name': 'ZenonTheStoic', 'entries': 367},\n",
       "  {'name': 'ZenonTheStoic2', 'entries': 6}],\n",
       " [{'name': 'Zenon', 'entries': 1}])"
      ]
     },
     "execution_count": 24,
     "metadata": {},
     "output_type": "execute_result"
    }
   ],
   "source": [
    "author_name_suggestion(\"ZenonThe\")"
   ]
  },
  {
   "cell_type": "code",
   "execution_count": 18,
   "metadata": {},
   "outputs": [
    {
     "data": {
      "text/plain": [
       "dict_keys(['18916244', '1deag', '20thCenturyFaux', '3PEET', '6armedrobot', '9Spur', 'A Good Shrubbery', 'A Red Herring', 'A Small Man', 'A1RD0G', 'AD Yuumi', 'ADC Waifu', 'ANVILANCHE', 'Aboot', 'AccuracyByVolume', 'Ace of Trolls', 'Aceanuu', 'Aeon Eternal', 'Aesah', 'AgentX91', 'AjeckFira', 'Aklaen', 'AlwaysBeClosing', 'Ampson', 'Ant in Oz', 'Antonomy', 'Arie', 'Ariya', 'ArmiesofZNight', 'Arx', 'Aurora', 'AutumnMemory', 'Average Gatsby', 'Awwww Yeaaaaahh', 'Axiomatic', 'Azmodius', 'AzuBK', 'Azure Day', 'Bao', 'BarackProbama', 'Bark Wahlberg', 'Bartosz', 'Bazerka', 'Bear', 'Bearricade', 'Beat Punchbeef', 'BelligerentSwan', 'Benshirro', 'BestIntentionsNA', 'Bi0major', 'Bigbadabruin', 'Bilby', 'Bioluminescence', 'Blackrook', 'BlueFire', 'Blueberry Pie', 'Bob LLama', 'Boourns', 'Botley', 'Bozzar', 'Brackhar', 'Bradmore', 'Brentmeister', 'Brick Fort', 'Broporo', 'Brrrammers', 'BuboBubo', 'BuffMePlz', 'C3Sound', 'Cable', 'Call me KT', 'Capernoited123', 'CapnBranFlakes', 'Captain Gameplay', 'CaptainFlowers', 'CaptnPanda', 'Carnival Knights', 'CeciDog', 'Cedriel', 'CertainlyT', 'Cezium', 'CezzM', 'Chager', 'Chastise', 'Chemicalseb', 'Chevalier41', 'ChoGath2BKidding', 'ChocChipCookie', 'Chombre', 'Chomey', 'ChronopolisCC', 'Cidem', 'ClakeyDeeeeeeeee', 'ColdCoffeeGamer', 'Coldburger', 'Colin', 'CombatCube', 'Commander Wu', 'CoolRadius', 'CopperKitten', 'Cosantoir', 'Couch Commando', 'Coxis', 'CrabDust', 'Credo', 'CroissantCat', 'Cupcake123123', 'Curing', 'Cut and Shoot', 'DadAmes', 'Daedalus12', 'DamnSpiffy', 'Dankeboop', 'Dannamoth', 'Dark Morgana', 'Darkwing Darran', 'DavieB', 'Dayge', 'DeadKnau5', 'DeeJaam', 'DefaultChar', 'Destravus', 'Diggity Jones', 'Digital Ram', 'Dinopawz', 'DizzyKa', 'Django UnJaned', 'Django Unjaned', 'DontHassleDaHoff', 'Dovi', 'Drevarius', 'Dromaius', 'DuckCurry', 'DutchWolf', 'DyQuill', 'Dædalus', 'Eambo', 'EatCrayons', 'Ed the Conqueror', 'EdwinMols', 'Eglorian', 'ElyCyan', 'EmeraldSatyr', 'Ender L', 'EndlessPillows', 'Eroica', 'Errigal', 'Escape Plan', 'Evaelin', 'EvilSpider', 'Evish', 'Ezreal', 'FREEDOM ROCK', 'Fairy Flan', 'Family Jules', 'FauxSchizzle', 'Faybao', 'Fearless', 'Feithen', 'FeralPony', 'Filthy Animals', 'FoxWolf', 'Fragzav', 'Freeverse88', 'Froststab', 'Fruity Sebbles', 'GG Hunter', 'Galetta', 'Galextresia', 'Gandolphin', 'Gantor Vandelay', 'GeneralCoxy', 'GeneralMarkinOff', 'GeneralMills', 'Genzer123', 'GerbilStrike', 'Gharris', 'Ghostcrawler', 'GiddyBanana', 'Gilg', 'Glar', 'Glorft', 'Glyceroll', 'GogoUsagi', 'Gomurai', 'GoneTilting', 'GorillaKing', 'Gortok', 'Griftrix', 'Gromp123', 'GrumpyMonkey', 'Guinsoo', 'Gweezlebur', 'HUGEnFAST', 'Hark', 'Harrow', 'Hawknet', 'Heintzer', 'Hexadriven', 'HeyItsChaBoiJag', 'HiddenAce52', 'Hippalus', 'Hitstreak', 'Hollymonster', 'Hongyou', 'Husker', 'Hyasri', 'I Am Error123123', 'I Am The IRS', 'I am Carlos', 'IIIIIlIIIIIIl', 'IIniquus', 'Iceburrg', 'Icosahedron', 'Ilsemprelaziale', 'Inahri', 'Infinite Veritas', 'Iniquitee', 'Interlocutioner', 'IronStylus', 'Its Tamat Damat', 'ItsLowbo', 'ItzMattu', 'Izeo', 'JINBEI', 'Jackll', 'Jag', 'JalapenoBidness', 'Janook', 'Jaredan', 'JawstheMusical', 'Jellbug', 'Jellybear', 'Jeopardy', 'JesterCapp', 'Jimmaofsmash', 'Jirsan', 'JohnODyin', 'Jooballin', 'Jordash', 'Jules Fern', 'Jynx', 'Kades', 'Kantorek', 'Karamoon', 'Keeper Arcanus', 'Keyru', 'Khoopa', 'Kielce', 'Kindlejack', 'KnightMer', 'Koobrick', 'Korensky', 'KoukakuKidoutai', 'Kovo', 'Krylhos', 'Kushnood ', 'Kuujoe', 'Kyrrie', 'L U N C H B O Y', 'L4T3NCY', 'LaBoka', 'Lango Leer', 'Laslow21', 'LeaoC', 'Les Nomerables', 'Letumiles1', 'Letumiles11', 'Lexical', 'LiL Batman', 'Limely', 'Lindorn', 'Live Gameplay', 'Llord Llama', 'Lomar', 'Loping Cinder', 'Lord Handsome', 'Lowbo', 'LtRandolph', 'Lucida', 'LunaFox', 'Luqizilla', 'Lyte', 'Lïghtnìng', 'M eye Abe', 'MANWOLFAXEBOSS', 'MUERTE TIME', 'MadLive', 'Magus', 'Major Fatal', 'Malatros', 'MaliceCity', 'ManWolfAxeBoss', 'ManticoreX', 'Marowe', 'MarshmallowBob', 'Masantha', 'Matchu', 'MattEnth', 'Maygin', 'Mayor Lag', 'MeDroiD', 'Mean Mister Kien', 'Meddler', 'Meowriko23', 'MetaTrace', 'Mhija', 'MicroBr3w', 'Mijumaru', 'MiniWhiteRabbit', 'Mirhi', 'Mirross', 'Mistriot', 'Modest Malz', 'Monkey Wrangler', 'Montag', 'Moonleaf', 'Morello', 'Mr Piddlesworth', 'MrBurnaby', 'MrCrapper', 'MrCrumb', 'MrMilkManiac', 'MrPoggersNbrhood', 'MsPudding', 'MsWhimsy', 'Mutacious', 'Myga', 'N00bs McNugget', 'N0TAR', 'Natural2020', 'Neamar', 'Nebuluna', 'NeuroCat', 'NightblueArt', 'Nivyx', 'NoopMoney', 'Not Surrendering', 'NotAFedora', 'Novalas', 'Nullarbor', 'Nusliful', 'Nyvkul', 'O2ymandias', 'OF JUSTICE', 'OldManYelling', 'Omar Little', 'OoviKat', 'Opeli', 'Ozark', 'PWYFF', 'Pabro', 'Palangano', 'Panic', 'PanikKontrol', 'Partiest Cat', 'Pendragon', 'Pente', 'Phreak', 'PiraTechnics', 'Pokeaotics', 'PokerSharky', 'Ponts', 'PonyShow', 'Popstar Urf', 'Porocles', 'Praeco', 'Preeti', 'Prilisa', 'ProtoShredanoid', 'Prynce', 'PsyKzz', 'Psyche', 'PwnLove', 'PxLVxN', 'Ququroon', 'R Buck', 'RBaconhawk', 'RIP Zephyreal', 'ROBERTxLEE', 'RUBYRUBYRUBYRUBY', 'Rabid Llama', 'Rammus', 'Randomnewguy', 'Ransom', 'Raxyel', 'Raykay', 'Rayven', 'Razgriez', 'Reach4theSkylar', 'Reav3', 'Rectifyer', 'RedBeard', 'Revenancer', 'ReversePolarity', 'Rhojin', 'RickVanPrim', 'Rincewind', 'Riot 0xGradius', 'Riot 10YearSanta', 'Riot 5oda', 'Riot Adabard', 'Riot AdamUnicorn', 'Riot Aeon', 'Riot Afic', 'Riot Ahab', 'Riot Akov', 'Riot Aotus', 'Riot Apawlogies', 'Riot ApeRoll', 'Riot Aperoll', 'Riot Apothis', 'Riot Ariya', 'Riot Arukhan', 'Riot Ashekandi', 'Riot Astryx', 'Riot Auberaun', 'Riot Axes', 'Riot Azmodius', 'Riot Baconhawk', 'Riot Bartosz', 'Riot Bazaam', 'Riot Beardilocks', 'Riot Bearricade', 'Riot Beastfu', 'Riot Beernana', 'Riot Biomarker', 'Riot Bizaym', 'Riot Blackrook', 'Riot Blaustoise', 'Riot BlueMonday', 'Riot Bo1ton', 'Riot BoatStuff', 'Riot Boba', 'Riot Bolton', 'Riot Boompje', 'Riot Bregor', 'Riot Brightmoon', 'Riot Bugcheck', 'Riot Bunniez', 'Riot Buzzelli', 'Riot Cactopus', 'Riot Calad', 'Riot CaptainLx', 'Riot Carsito', 'Riot Case', 'Riot Cashmiir', 'Riot Catmanda', 'Riot Catzpaw', 'Riot ChaosMAO', 'Riot Chastise', 'Riot Chesties', 'Riot ChildInTime', 'Riot Christopurr', 'Riot Chuchero', 'Riot Codebear', 'Riot Codemancy', 'Riot Cogswobble', 'Riot Colin', 'Riot Commish', 'Riot Condor', 'Riot Cosantoir', 'Riot Daguava', 'Riot DanielSAN', 'Riot Danky', 'Riot Dash', 'Riot DeNocte', 'Riot Decided', 'Riot Deerskin', 'Riot Defaultchar', 'Riot DevilPup', 'Riot DoctahWayne', 'Riot Doomhammer', 'Riot DrPh8', 'Riot Draggles', 'Riot Drewbacca', 'Riot Eambo', 'Riot EarthSlug', 'Riot EdwinMols', 'Riot Eggo McLego', 'Riot Eglorian', 'Riot Ellarian', 'Riot Emil', 'Riot Endstep', 'Riot Eno', 'Riot Entropy', 'Riot Epiphane', 'Riot Evil Viz', 'Riot Evo', 'Riot Exgeniar', 'Riot Fairy Flan', 'Riot Fauxfox', 'Riot FeelsU', 'Riot Feithen', 'Riot FireBear', 'Riot Flowerpew', 'Riot Foro', 'Riot Forseti', 'Riot Franimal', 'Riot GMang', 'Riot Galetta', 'Riot Gearhook', 'Riot Geo', 'Riot Girl', 'Riot Goosetown', 'Riot Greenily', 'Riot Grumbles', 'Riot Gweezlebur', 'Riot HansAxel', 'Riot Hark', 'Riot Hawknet', 'Riot Hjarta', 'Riot HoneyTower', 'Riot Hylia', 'Riot Id', 'Riot Incendiary', 'Riot Ironseid', 'Riot Jatt', 'Riot Jedahs', 'Riot Jengles', 'Riot Jino', 'Riot JxE', 'Riot K3o', 'Riot Kails', 'Riot Katana', 'Riot KateyKhaos', 'Riot KenAdamsNSA', 'Riot Kengen', 'Riot KernelPanic', 'Riot Keyserito', 'Riot Khimera3', 'Riot KiWiKiD', 'Riot Kid Ronnie', 'Riot King Cobra', 'Riot KingAmenRa', 'Riot Kiryojo', 'Riot Klover', 'Riot Koalifier', 'Riot Koins', 'Riot Kopokhin', 'Riot Koyuncu', 'Riot Lango Leer', 'Riot Laslow', 'Riot LegendLarry', 'Riot Lexical', 'Riot Lil Peanut', 'Riot LordJerith', 'Riot LoveStrut', 'Riot Lutzburg', 'Riot Lyte', 'Riot MEMEMEMEME', 'Riot MapleNectar', 'Riot Maxw3ll', 'Riot Meatmaker', 'Riot MechaMoose', 'Riot Meekal', 'Riot MessengerRG', 'Riot Metasystem', 'Riot Meyea', 'Riot Minelwen', 'Riot Miuzy', 'Riot Mixtli', 'Riot Moog1ez', 'Riot MoreChrono', 'Riot Morgageddon', 'Riot Mort', 'Riot Mortdog', 'Riot MoxCheese', 'Riot Mr Sope', 'Riot MrAwesome', 'Riot MuffyKing', 'Riot MugofAle', 'Riot NaKyle', 'Riot Natural20', 'Riot Nekomaru', 'Riot Neon', 'Riot NeuroCat', 'Riot Nitsuabo', 'Riot Notar', 'Riot Novalas', 'Riot NuckleX', 'Riot Nullarbor', 'Riot Nusliful', 'Riot Nyanbun', 'Riot Nybius', 'Riot Nyx', 'Riot OGRigga', 'Riot Ohmu', 'Riot Orphyre', 'Riot OwleyCat', 'Riot Pabro', 'Riot Paradox', 'Riot Paulie', 'Riot Pengun', 'Riot Penrif', 'Riot Perma', 'Riot Petrie', 'Riot Phoenix', 'Riot Photronic', 'Riot PizzaNinja', 'Riot Pls', 'Riot Popc0rner', 'Riot Porosite', 'Riot Ptrans', 'Riot Pwyff', 'Riot R3DALERT', 'Riot RMagnum', 'Riot Rainbow Pi', 'Riot Ranger XIV', 'Riot Rapwnzel', 'Riot Reedtho', 'Riot Reinboom', 'Riot Renders', 'Riot Rikey', 'Riot Riscx', 'Riot Roadmap', 'Riot RoboLions', 'Riot Rovient', 'Riot Ruin3d', 'Riot Sanjuro', 'Riot SapMagic', 'Riot Scathlocke', 'Riot Schmiot', 'Riot Scootboard', 'Riot Scruffy', 'Riot Searsha', 'Riot Seri', 'Riot ShadowStorm', 'Riot Shaggy', 'Riot Shalkar', 'Riot Shantzilla', 'Riot Silog', 'Riot Sirhaian', 'Riot SkiTeacher', 'Riot Socrates', 'Riot Sotere', 'Riot Sound Bear', 'Riot Soundwave', 'Riot Sparkle', 'Riot Spider', 'Riot SpookyDooky', 'Riot Squimpy', 'Riot Stags', 'Riot Star Weaver', 'Riot Stashu', 'Riot Stellari', 'Riot Stephiroth', 'Riot Stimhack', 'Riot Stokbrood', 'Riot Sudo', 'Riot Summy', 'Riot SuperCakes', 'Riot Superfoxman', 'Riot Swade', 'Riot SwagDragon', 'Riot SwampWTFox', 'Riot Sweet', 'Riot Sysnet ', 'Riot Szymba', 'Riot Taco Storm', 'Riot TahmHiddle', 'Riot Tainze', 'Riot Talumar', 'Riot Tantram', 'Riot TebsG', 'Riot Terra', 'Riot ThEntropist', 'Riot TheMay0r', 'Riot TheYoungD', 'Riot Tiger Lily', 'Riot Tiki', 'Riot Time Wizard', 'Riot Toast', 'Riot Tocelot', 'Riot Tokkelossie', 'Riot TreblMuffin', 'Riot Triaged', 'Riot Trikny', 'Riot Tuxedo', 'Riot TuxedoBear', 'Riot UltraCombo', 'Riot Uracan', 'Riot Vagaboond', 'Riot Ve1vet', 'Riot Velocity', 'Riot Venia', 'Riot Vitzkrieg', 'Riot Wav3Break', 'Riot WaveBreak', 'Riot Weecore', 'Riot Weeknd', 'Riot Whale', 'Riot Wherehouse', 'Riot Whiski', 'Riot Whiskies', 'Riot Whist', 'Riot Wilkingham', 'Riot Wishling', 'Riot Witchburner', 'Riot Wittrock', 'Riot Wr4ithL0rd', 'Riot Xelaadryth', 'Riot Xenxar', 'Riot Yappiekun', 'Riot Yuka', 'Riot Yuujou', 'Riot Zerax', 'Riot Zhanos', 'Riot Zicy', 'Riot Zimberfly', 'Riot a huevo', 'Riot banfhammer', 'Riot c0ttonnz', 'Riot chl0e', 'Riot dArtagnan', 'Riot didimi', 'Riot f1na1b055', 'Riot grumbojr', 'Riot iZac', 'Riot jayway', 'Riot majork0ng', 'Riot martlet', 'Riot ringthree', 'Riot seetheworld', 'Riot seregrant', 'Riot sharkyspoon', 'Riot skiteacher2', 'Riot slazareth', 'Riot stopthief', 'Riot swimbananas', 'Riot tehleach', 'Riot tmx', 'Riot w4ndr', 'Riot wuddaheq', 'RiotAaronMike', 'RiotAether', 'RiotAntares', 'RiotAnyongANYONG', 'RiotAthanatos', 'RiotBaconhawk', 'RiotBahamut', 'RiotBok', 'RiotBrightEyz', 'RiotBrokenSword', 'RiotCaptainLx', 'RiotChopper', 'RiotChun', 'RiotDannamoth', 'RiotDecrepit', 'RiotDuckCurry', 'RiotElectricDiva', 'RiotFancypants', 'RiotFollyOfDan', 'RiotForScience', 'RiotFpMcgee', 'RiotGeekstress', 'RiotGriftrix', 'RiotHipposlav', 'RiotIamjeffvader', 'RiotIceChest', 'RiotIniquitee', 'RiotJHa', 'RiotJaredan', 'RiotJenny', 'RiotJentendo', 'RiotJerkee', 'RiotKantorek', 'RiotKarateMonkey', 'RiotKrylhos', 'RiotKungfuGopher', 'RiotLamz', 'RiotLapith', 'RiotLignarius', 'RiotLobster', 'RiotLolChocotaco', 'RiotMadnessHeroo', 'RiotMindbullets', 'RiotMoltovcarrot', 'RiotMuscleMcBuff', 'RiotNarsil', 'RiotNinjaTabby', 'RiotNome', 'RiotNova', 'RiotNoyz', 'RiotOtown', 'RiotPDB', 'RiotPastaBomb', 'RiotPenguin', 'RiotPhreak', 'RiotPhyrrus', 'RiotRepertoir', 'RiotRival', 'RiotRoku', 'RiotRorrim', 'RiotRunaan', 'RiotScarizard', 'RiotSchmick', 'RiotSeb', 'RiotSilver', 'RiotSkewt', 'RiotSlumberJack', 'RiotSolcrushed', 'RiotSomeOtherGuy', 'RiotSuperfoxman', 'RiotTantram', 'RiotTerra', 'RiotUsesBogosort', 'RiotWrekz', 'RiotWulalowe', 'RiotZALE', 'RiotZeronis', 'RiotZulu', 'Riotelement0logy', 'Riotgharris', 'Rito jinxylord', 'RoadkillsRevenge', 'RoboLions', 'Rocket Baby Doll', 'Rocketfish', 'Rokudan', 'RonSolo', 'Rubinio', 'Ruby Red Queen', 'RumbleStew', 'Ryedan', 'Ryze', 'S0bey', 'SSlazio1900', 'ST Archer', 'SWAGGERNAU7', 'Saberprivateer', 'Sable', 'Saiyaka', 'SandalwoodGrips', 'Sargonas', 'Satsui SquidmoX', 'Scarizard', 'Scherzo', 'Scootboard', 'ScuttleChris', 'Shaodow', 'Shaqfuu', 'Sherman', 'Shetler', 'Shin Kazuo', 'ShiraShira', 'Shoeface', 'Shrieve', 'Sickoscott', 'Siegil', 'SilverUnicorn', 'Simurgh', 'Sinayion', 'Sir Frosthaven', 'Sir Stabbington', 'Sirhaian', 'Sissonne', 'SixBlades', 'Skarnye West', 'Skeeziks', 'Skekses', 'SkiptoMyLuo', 'SlimeTime2K18', 'Slumber Jack', 'SmashGizmo', 'Sneaky', 'Socrates', 'Socratocracy', 'Soft Fail', 'Solcrushed', 'Son Golin', 'Son of Ornn', 'Sotere', 'SpaceHippo123', 'SpaceNorth', 'SpaceW0mbat', 'Sparkle', 'Spice King Beben', 'SpikedPunchVictim', 'Spinneli', 'Squad5', 'StarWraith', 'Stashu', 'Statikk', 'StayAwhileNlistn', 'Steeb', 'StillRampant', 'SuddenPenance', 'Sundiata', 'Super Nomegeta', 'SuperAdvanced', 'SuperCakes', 'SuperOmelette', 'Sweet', 'TEEMO SOZE', 'Tainze', 'Talondor', 'Tamat', 'Tamfail', 'Tamgros', 'Targons Blade', 'TayTay Bot', 'Tegea', 'TempName15411113', 'That Poppy', 'The Bravo Ray', 'The Messenger RG', 'The Wolff', 'TheBurritoGod', 'TheDeadlyBrain', 'TheHexaDad', 'TheKingAmunRa', 'TheRealCarlSagan', 'TheReaperXIII', 'Thermal Kitten', 'Tim Teemo', 'Tiza', 'Tog3pi', 'Tommy Gnox', 'Triggs', 'Trill Collins', 'Troyzi11a', 'TrueKingLord', 'Tryndamere', 'Tummers', 'TweEeak', 'Tyranobaka', 'UTA Simoorgh', 'Ubiquitous42', 'Udyr', 'Utora', 'V1rtuE', 'Validus', 'Vandelay', 'Vaurnbarn', 'Veonneth', 'Verdaloth', 'Veruco', 'Vesh', 'Viranimal', 'Viscarious', 'Viscarious88', 'VonBurgermeister', 'Vonderhamz', 'W4terboy', 'WAAARGHbobo', 'Wayfarer', 'Wee Deedles', 'Wenceslaus', 'Westbroke', 'Whren', 'Wilwariniel', 'Wingfield', 'Wiot Wittwock', 'WizardCrab', 'WizardOTL', 'WizardoftheLake', 'WookieeCookie', 'Worthless Animal', 'WowSuchRicky', 'Wrekz', 'Wrekzzz', 'XBANN0R', 'XDangoUnchainedX', 'Xaafira', 'Xelnath', 'Xenogenic', 'Xorion', 'XtaSia', 'Xypherous', 'Yakaru', 'Yappi3', 'Ymir', 'Ypherion', 'Yuhan', 'Yuka', 'Zaffron', 'Zenon', 'ZenonTheStoic', 'ZenonTheStoic2', 'Zephyr', 'Zephyreal', 'Zheiko', 'Zippolious', 'ZirconiumMirs', 'Zirene', 'Zonum213', 'Zwill', 'a highwayman', 'afic', 'alex gonzales', 'amirelle', 'avari26', 'banksy', 'beepea', 'boom bear', 'boourns', 'brandonia', 'calisker', 'cautomaton', 'christokkies', 'chupaacabra', 'cluvie', 'dArtagnan', 'davin', 'draggles in NA', 'efflam', 'elis clown', 'feistyjinx', 'fizzNchips', 'free melly', 'genexp', 'gregab', 'handfulofchips', 'heathbar', 'hugehugesword', 'invinciblemoon', 'its so dense', 'jasonoliver', 'jaywatford', 'jmccaffrey', 'jmorla', 'kami banani', 'karesuna', 'kergalicious', 'killerbeepea', 'kitae', 'kliul3ss', 'kyugene', 'lancepantz', 'lonewingy', 'lookitsbs', 'm0hler', 'merfdiezel', 'mirageofpenguins', 'missmechazero', 'moltovcarrot', 'moonstones', 'nancymon', 'nark', 'nerp1186', 'new scott', 'nickstravaganza', 'nikoinfulleffect', 'ohmikegoodness', 'omgscuttlecrab', 'omhalodil', 'pachiporomari', 'pasta mama', 'pcosty', 'pengulose', 'playtestpenguin', 'probably oxy', 'r Psxlol', 'rarax3', 'ricklessabandon', 'riot symbolism', 'riotkowari', 'riotspookydooky', 'rycou', 'safelocked', 'sandsoftblue', 'semipriceysoap', 'shio shoujo', 'sixtwo', 'snwbrd', 'sonicdeathmonk', 'sparkly unicorns', 'subninja', 'tankaram4lyfe', 'target1', 'themrrival', 'umpunct', 'usher voice', 'vLemon', 'vo1d seeker', 'xNymia', 'yupster', 'zerocontext'])"
      ]
     },
     "execution_count": 18,
     "metadata": {},
     "output_type": "execute_result"
    }
   ],
   "source": [
    "all_indexed_authors_stats.keys()"
   ]
  },
  {
   "cell_type": "code",
   "execution_count": 20,
   "metadata": {},
   "outputs": [
    {
     "data": {
      "text/plain": [
       "True"
      ]
     },
     "execution_count": 20,
     "metadata": {},
     "output_type": "execute_result"
    }
   ],
   "source": [
    "\"ZenonTheStoic\".startswith(\"ZenonThe\")"
   ]
  },
  {
   "cell_type": "code",
   "execution_count": null,
   "metadata": {},
   "outputs": [],
   "source": []
  }
 ],
 "metadata": {
  "kernelspec": {
   "display_name": "Python 3",
   "language": "python",
   "name": "python3"
  },
  "language_info": {
   "codemirror_mode": {
    "name": "ipython",
    "version": 3
   },
   "file_extension": ".py",
   "mimetype": "text/x-python",
   "name": "python",
   "nbconvert_exporter": "python",
   "pygments_lexer": "ipython3",
   "version": "3.6.8"
  }
 },
 "nbformat": 4,
 "nbformat_minor": 2
}
